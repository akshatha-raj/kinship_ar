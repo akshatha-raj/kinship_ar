{
  "nbformat": 4,
  "nbformat_minor": 0,
  "metadata": {
    "colab": {
      "provenance": [],
      "authorship_tag": "ABX9TyMJuZ/j+ZoEjjyxKAT/n+9o",
      "include_colab_link": true
    },
    "kernelspec": {
      "name": "python3",
      "display_name": "Python 3"
    },
    "language_info": {
      "name": "python"
    }
  },
  "cells": [
    {
      "cell_type": "markdown",
      "metadata": {
        "id": "view-in-github",
        "colab_type": "text"
      },
      "source": [
        "<a href=\"https://colab.research.google.com/github/akshatha-raj/kinship_ar/blob/main/KinShip_V2_Nov10.ipynb\" target=\"_parent\"><img src=\"https://colab.research.google.com/assets/colab-badge.svg\" alt=\"Open In Colab\"/></a>"
      ]
    },
    {
      "cell_type": "code",
      "execution_count": 1,
      "metadata": {
        "colab": {
          "base_uri": "https://localhost:8080/"
        },
        "id": "_9drgbpE1EnU",
        "outputId": "5a942328-a27c-45e3-df04-0803b97cab53"
      },
      "outputs": [
        {
          "output_type": "stream",
          "name": "stdout",
          "text": [
            "Collecting gradio_client\n",
            "  Downloading gradio_client-0.7.0-py3-none-any.whl (302 kB)\n",
            "\u001b[2K     \u001b[90m━━━━━━━━━━━━━━━━━━━━━━━━━━━━━━━━━━━━━━━━\u001b[0m \u001b[32m302.7/302.7 kB\u001b[0m \u001b[31m4.3 MB/s\u001b[0m eta \u001b[36m0:00:00\u001b[0m\n",
            "\u001b[?25hRequirement already satisfied: fsspec in /usr/local/lib/python3.10/dist-packages (from gradio_client) (2023.6.0)\n",
            "Collecting httpx (from gradio_client)\n",
            "  Downloading httpx-0.25.1-py3-none-any.whl (75 kB)\n",
            "\u001b[2K     \u001b[90m━━━━━━━━━━━━━━━━━━━━━━━━━━━━━━━━━━━━━━━━\u001b[0m \u001b[32m75.0/75.0 kB\u001b[0m \u001b[31m6.2 MB/s\u001b[0m eta \u001b[36m0:00:00\u001b[0m\n",
            "\u001b[?25hCollecting huggingface-hub>=0.13.0 (from gradio_client)\n",
            "  Downloading huggingface_hub-0.19.0-py3-none-any.whl (311 kB)\n",
            "\u001b[2K     \u001b[90m━━━━━━━━━━━━━━━━━━━━━━━━━━━━━━━━━━━━━━━━\u001b[0m \u001b[32m311.2/311.2 kB\u001b[0m \u001b[31m7.3 MB/s\u001b[0m eta \u001b[36m0:00:00\u001b[0m\n",
            "\u001b[?25hRequirement already satisfied: packaging in /usr/local/lib/python3.10/dist-packages (from gradio_client) (23.2)\n",
            "Requirement already satisfied: requests~=2.0 in /usr/local/lib/python3.10/dist-packages (from gradio_client) (2.31.0)\n",
            "Requirement already satisfied: typing-extensions~=4.0 in /usr/local/lib/python3.10/dist-packages (from gradio_client) (4.5.0)\n",
            "Collecting websockets<12.0,>=10.0 (from gradio_client)\n",
            "  Downloading websockets-11.0.3-cp310-cp310-manylinux_2_5_x86_64.manylinux1_x86_64.manylinux_2_17_x86_64.manylinux2014_x86_64.whl (129 kB)\n",
            "\u001b[2K     \u001b[90m━━━━━━━━━━━━━━━━━━━━━━━━━━━━━━━━━━━━━━━━\u001b[0m \u001b[32m129.9/129.9 kB\u001b[0m \u001b[31m7.3 MB/s\u001b[0m eta \u001b[36m0:00:00\u001b[0m\n",
            "\u001b[?25hRequirement already satisfied: filelock in /usr/local/lib/python3.10/dist-packages (from huggingface-hub>=0.13.0->gradio_client) (3.13.1)\n",
            "Requirement already satisfied: tqdm>=4.42.1 in /usr/local/lib/python3.10/dist-packages (from huggingface-hub>=0.13.0->gradio_client) (4.66.1)\n",
            "Requirement already satisfied: pyyaml>=5.1 in /usr/local/lib/python3.10/dist-packages (from huggingface-hub>=0.13.0->gradio_client) (6.0.1)\n",
            "Requirement already satisfied: charset-normalizer<4,>=2 in /usr/local/lib/python3.10/dist-packages (from requests~=2.0->gradio_client) (3.3.2)\n",
            "Requirement already satisfied: idna<4,>=2.5 in /usr/local/lib/python3.10/dist-packages (from requests~=2.0->gradio_client) (3.4)\n",
            "Requirement already satisfied: urllib3<3,>=1.21.1 in /usr/local/lib/python3.10/dist-packages (from requests~=2.0->gradio_client) (2.0.7)\n",
            "Requirement already satisfied: certifi>=2017.4.17 in /usr/local/lib/python3.10/dist-packages (from requests~=2.0->gradio_client) (2023.7.22)\n",
            "Requirement already satisfied: anyio in /usr/local/lib/python3.10/dist-packages (from httpx->gradio_client) (3.7.1)\n",
            "Collecting httpcore (from httpx->gradio_client)\n",
            "  Downloading httpcore-1.0.2-py3-none-any.whl (76 kB)\n",
            "\u001b[2K     \u001b[90m━━━━━━━━━━━━━━━━━━━━━━━━━━━━━━━━━━━━━━━━\u001b[0m \u001b[32m76.9/76.9 kB\u001b[0m \u001b[31m9.7 MB/s\u001b[0m eta \u001b[36m0:00:00\u001b[0m\n",
            "\u001b[?25hRequirement already satisfied: sniffio in /usr/local/lib/python3.10/dist-packages (from httpx->gradio_client) (1.3.0)\n",
            "Requirement already satisfied: exceptiongroup in /usr/local/lib/python3.10/dist-packages (from anyio->httpx->gradio_client) (1.1.3)\n",
            "Collecting h11<0.15,>=0.13 (from httpcore->httpx->gradio_client)\n",
            "  Downloading h11-0.14.0-py3-none-any.whl (58 kB)\n",
            "\u001b[2K     \u001b[90m━━━━━━━━━━━━━━━━━━━━━━━━━━━━━━━━━━━━━━━━\u001b[0m \u001b[32m58.3/58.3 kB\u001b[0m \u001b[31m7.0 MB/s\u001b[0m eta \u001b[36m0:00:00\u001b[0m\n",
            "\u001b[?25hInstalling collected packages: websockets, h11, huggingface-hub, httpcore, httpx, gradio_client\n",
            "Successfully installed gradio_client-0.7.0 h11-0.14.0 httpcore-1.0.2 httpx-0.25.1 huggingface-hub-0.19.0 websockets-11.0.3\n"
          ]
        }
      ],
      "source": [
        "!pip install gradio_client"
      ]
    },
    {
      "cell_type": "code",
      "source": [
        "api_url = \"https://duchaba-kinship-llm-v2.hf.space/--replicas/4v6mn/\"\n",
        "\n",
        "# You can use the 'api_url' variable in the remaining script\n",
        "print(\"The URL is:\", api_url)"
      ],
      "metadata": {
        "colab": {
          "base_uri": "https://localhost:8080/"
        },
        "id": "HLFt06531Igb",
        "outputId": "3833962b-d046-48a0-8b8c-6ffad7123330"
      },
      "execution_count": 2,
      "outputs": [
        {
          "output_type": "stream",
          "name": "stdout",
          "text": [
            "The URL is: https://duchaba-kinship-llm-v2.hf.space/--replicas/4v6mn/\n"
          ]
        }
      ]
    },
    {
      "cell_type": "code",
      "source": [
        "#Test 1 Kinship LLM version 2 - conversation between Vet dog and a doctor and dog had  Urinary Tract Infection testing in the End_chat\n",
        "from gradio_client import Client\n",
        "import pandas as pd\n",
        "df = pd.read_csv('testing_csv - Sheet1.csv')\n",
        "conversation= df.loc[0, 'input']\n",
        "\n",
        "client = Client(api_url)\n",
        "result = client.predict(conversation,\n",
        "\t\t\"End_Chat\",\t# Literal[End_Chat, Mid_Chat, Email, Web_Welcome]  in 'Vet Chat Function:' Radio component\n",
        "\t\tFalse,\t# bool  in 'JSON Output' Checkbox component\n",
        "\t\tapi_name=\"/predict\"\n",
        ")\n",
        "print(result)"
      ],
      "metadata": {
        "colab": {
          "base_uri": "https://localhost:8080/"
        },
        "id": "b4HAQQQr1IZn",
        "outputId": "bd799329-fa32-40f7-b85e-7a9b9b7089ff"
      },
      "execution_count": 3,
      "outputs": [
        {
          "output_type": "stream",
          "name": "stdout",
          "text": [
            "Loaded as API: https://duchaba-kinship-llm-v2.hf.space/--replicas/4v6mn/ ✔\n",
            "1. Summary: The veterinarian chat session involved a dog owner seeking advice for their dog\\'s frequent urination and pain, suspecting a urinary tract infection (UTI). The veterinarian suggested bringing the dog to the clinic for a urinalysis to confirm the diagnosis. In the meantime, the owner was advised to provide fresh water to encourage urination and avoid giving any over-the-counter medications without veterinary guidance. It was also recommended to prevent the dog from licking the affected area to avoid further irritation.\n",
            "\n",
            "2. Top two kinship_article_title along with the kinship_article_url:\n",
            "- \\\"UTIs Suck for Your Cat, Too\\\" - https://thewildest.com/cat-health/cat-uti\n",
            "- \\\"How to Treat Cat UTIs\\\" - https://thewildest.com/cat-health/cat-uti\n"
          ]
        }
      ]
    },
    {
      "cell_type": "code",
      "source": [
        "#Test 2 Kinship LLM version 2 - conversation between Vet dog and a doctor and dog had  Urinary Tract Infection testing in the End_chat\n",
        "from gradio_client import Client\n",
        "import pandas as pd\n",
        "df = pd.read_csv('testing_csv - Sheet1.csv')\n",
        "conversation= df.loc[1, 'input']\n",
        "\n",
        "client = Client(api_url)\n",
        "result = client.predict(conversation,\n",
        "\t\t\"End_Chat\",\t# Literal[End_Chat, Mid_Chat, Email, Web_Welcome]  in 'Vet Chat Function:' Radio component\n",
        "\t\tFalse,\t# bool  in 'JSON Output' Checkbox component\n",
        "\t\tapi_name=\"/predict\"\n",
        ")\n",
        "print(result)"
      ],
      "metadata": {
        "colab": {
          "base_uri": "https://localhost:8080/"
        },
        "id": "9G0jWvS5CBrc",
        "outputId": "d0e7e0df-8c4f-4560-8372-36df9864db91"
      },
      "execution_count": 6,
      "outputs": [
        {
          "output_type": "stream",
          "name": "stdout",
          "text": [
            "Loaded as API: https://duchaba-kinship-llm-v2.hf.space/--replicas/4v6mn/ ✔\n",
            "1. Summary: The dog owner is concerned that their dog may have a urinary tract infection (UTI) due to frequent urination, pain, and unusual smell of urine. The veterinarian advises the dog owner to bring the dog to the clinic for a urinalysis to confirm the diagnosis. In the meantime, the dog owner should ensure the dog has access to fresh water to encourage urination and prevent dehydration. They should also prevent the dog from licking the affected area. The veterinarian mentions that dietary changes may be necessary depending on the severity of the UTI and the dog\\'s individual needs. The dog owner asks if UTIs can be contagious to humans, and the veterinarian explains that while uncommon, it\\'s important to practice good hygiene and consult a doctor if any concerns arise.\n",
            "\n",
            "2. Top two kinship_article_title along with the kinship_article_url:\n",
            "- UTIs Suck for Your Cat, Too | How to Treat Cat UTIs\n",
            "   kinship_article_url: https://thewildest.com/cat-health/cat-uti\n",
            "- UTIs Suck for Your Cat, Too | How to Treat Cat UTIs\n",
            "   kinship_article_url: https://thewildest.com/cat-health/cat-uti\n"
          ]
        }
      ]
    },
    {
      "cell_type": "code",
      "source": [
        "#Test 3 Kinship LLM version 2 - conversation between Vet dog and a doctor and dog had  Urinary Tract Infection testing in the Mid_chat\n",
        "from gradio_client import Client\n",
        "import pandas as pd\n",
        "df = pd.read_csv('testing_csv - Sheet1.csv')\n",
        "conversation= df.loc[0, 'input']\n",
        "\n",
        "client = Client(api_url)\n",
        "result = client.predict(conversation,\n",
        "\t\t\"Mid_Chat\",\t# Literal[End_Chat, Mid_Chat, Email, Web_Welcome]  in 'Vet Chat Function:' Radio component\n",
        "\t\tFalse,\t# bool  in 'JSON Output' Checkbox component\n",
        "\t\tapi_name=\"/predict\"\n",
        ")\n",
        "print(result)"
      ],
      "metadata": {
        "colab": {
          "base_uri": "https://localhost:8080/"
        },
        "id": "VWtJ8L6-4I9O",
        "outputId": "7783436b-10cc-4e66-b610-6beeb2babaf1"
      },
      "execution_count": 4,
      "outputs": [
        {
          "output_type": "stream",
          "name": "stdout",
          "text": [
            "Loaded as API: https://duchaba-kinship-llm-v2.hf.space/--replicas/4v6mn/ ✔\n",
            "1. UTIs Suck for Your Cat, Too | How to Treat Cat UTIs - https://thewildest.com/cat-health/cat-uti\n",
            "2. Unknown\n"
          ]
        }
      ]
    },
    {
      "cell_type": "code",
      "source": [
        "#Test 4 Kinship LLM version 2 - conversation between Vet dog and a doctor and dog had  Urinary Tract Infection testing in the Mid_chat\n",
        "from gradio_client import Client\n",
        "import pandas as pd\n",
        "df = pd.read_csv('testing_csv - Sheet1.csv')\n",
        "conversation= df.loc[1, 'input']\n",
        "\n",
        "client = Client(api_url)\n",
        "result = client.predict(conversation,\n",
        "\t\t\"Mid_Chat\",\t# Literal[End_Chat, Mid_Chat, Email, Web_Welcome]  in 'Vet Chat Function:' Radio component\n",
        "\t\tFalse,\t# bool  in 'JSON Output' Checkbox component\n",
        "\t\tapi_name=\"/predict\"\n",
        ")\n",
        "print(result)"
      ],
      "metadata": {
        "colab": {
          "base_uri": "https://localhost:8080/"
        },
        "id": "JiAYiIGWA3MC",
        "outputId": "5b506c2f-d553-4ed4-d026-28b73e8e5234"
      },
      "execution_count": 5,
      "outputs": [
        {
          "output_type": "stream",
          "name": "stdout",
          "text": [
            "Loaded as API: https://duchaba-kinship-llm-v2.hf.space/--replicas/4v6mn/ ✔\n",
            "1. UTIs Suck for Your Cat, Too | How to Treat Cat UTIs\n",
            "   - kinship_article_url: https://thewildest.com/cat-health/cat-uti\n",
            "\n",
            "2. Not mentioned in the given context.\n"
          ]
        }
      ]
    },
    {
      "cell_type": "code",
      "source": [
        "#Test 5 Kinship LLM version 2 - conversation between Vet dog and a doctor and dog had  Urinary Tract Infection testing in the Email\n",
        "from gradio_client import Client\n",
        "import pandas as pd\n",
        "df = pd.read_csv('testing_csv - Sheet1.csv')\n",
        "conversation= df.loc[0, 'input']\n",
        "\n",
        "client = Client(api_url)\n",
        "result = client.predict(conversation,\n",
        "\t\t\"Email\",\t# Literal[End_Chat, Mid_Chat, Email, Web_Welcome]  in 'Vet Chat Function:' Radio component\n",
        "\t\tFalse,\t# bool  in 'JSON Output' Checkbox component\n",
        "\t\tapi_name=\"/predict\"\n",
        ")\n",
        "print(result)"
      ],
      "metadata": {
        "colab": {
          "base_uri": "https://localhost:8080/"
        },
        "id": "E-3-QtWZCMXK",
        "outputId": "1c0d1f22-7680-4967-f6e6-ee1c2c9c7403"
      },
      "execution_count": 7,
      "outputs": [
        {
          "output_type": "stream",
          "name": "stdout",
          "text": [
            "Loaded as API: https://duchaba-kinship-llm-v2.hf.space/--replicas/4v6mn/ ✔\n",
            "Email to the user:\n",
            "\n",
            "Subject: Concerns about your dog\\'s urinary health\n",
            "\n",
            "Dear [User],\n",
            "\n",
            "I hope this email finds you well. I understand that you have some concerns about your dog\\'s urinary health, specifically regarding frequent urination, pain, and an unusual smell in the urine. Based on the symptoms you described, it is possible that your dog may have a urinary tract infection (UTI).\n",
            "\n",
            "As a veterinarian, I would recommend bringing your dog to the veterinary clinic for a urinalysis to confirm the diagnosis. This test will help us determine if there is an infection present and guide us in providing the appropriate treatment for your furry friend.\n",
            "\n",
            "In the meantime, there are a few things you can do to help ease your dog\\'s discomfort. Make sure your dog has access to fresh water at all times. This will encourage urination and help flush out the urinary tract. It is important to avoid giving your dog any over-the-counter medications without veterinary guidance, as they may not be safe or effective for treating UTIs in dogs.\n",
            "\n",
            "Additionally, if possible, try to prevent your dog from licking the affected area. Licking can further irritate the urinary tract and potentially worsen the symptoms. If you notice any changes in your dog\\'s behavior or if the symptoms worsen, please don\\'t hesitate to contact us or make an appointment as soon as possible.\n",
            "\n",
            "We are here to provide the best care for your beloved pet, and we look forward to seeing you and your dog at the clinic. If you have any further questions or concerns, please feel free to reach out to us.\n",
            "\n",
            "Best regards,\n",
            "\n",
            "[Your Name]\n",
            "[Your Veterinary Clinic]\n",
            "\n",
            "Top kinship_article_title along with kinship_article_url:\n",
            "1. \\\"UTIs Suck for Your Cat, Too\\\" - https://thewildest.com/cat-health/cat-uti\n",
            "2. [Title not provided] - [URL not provided]\n"
          ]
        }
      ]
    },
    {
      "cell_type": "code",
      "source": [
        "#Test 6 Kinship LLM version 2 - conversation between Vet dog and a doctor and dog had  Urinary Tract Infection testing in the Email\n",
        "from gradio_client import Client\n",
        "import pandas as pd\n",
        "df = pd.read_csv('testing_csv - Sheet1.csv')\n",
        "conversation= df.loc[1, 'input']\n",
        "\n",
        "client = Client(api_url)\n",
        "result = client.predict(conversation,\n",
        "\t\t\"Email\",\t# Literal[End_Chat, Mid_Chat, Email, Web_Welcome]  in 'Vet Chat Function:' Radio component\n",
        "\t\tFalse,\t# bool  in 'JSON Output' Checkbox component\n",
        "\t\tapi_name=\"/predict\"\n",
        ")\n",
        "print(result)"
      ],
      "metadata": {
        "colab": {
          "base_uri": "https://localhost:8080/"
        },
        "id": "rNlwQMN_CpSg",
        "outputId": "f6864a8a-dc36-4efd-c912-9e9c6e07e5fd"
      },
      "execution_count": 8,
      "outputs": [
        {
          "output_type": "stream",
          "name": "stdout",
          "text": [
            "Loaded as API: https://duchaba-kinship-llm-v2.hf.space/--replicas/4v6mn/ ✔\n",
            "1. Email to the user in veterinarian friendly natural conversational style:\n",
            "\n",
            "Subject: Regarding Your Dog\\'s Urinary Tract Infection\n",
            "\n",
            "Hello [Dog Owner\\'s Name],\n",
            "\n",
            "I hope this email finds you and your furry friend well. I wanted to follow up on our recent chat session regarding your dog\\'s urinary tract infection (UTI). I understand that you have made an appointment with the veterinary clinic for a urinalysis to confirm the diagnosis, which is a great step towards helping your dog feel better.\n",
            "\n",
            "In the meantime, there are a few things you can do to ease your dog\\'s discomfort. Make sure he has access to fresh water at all times to encourage urination and help flush out the urinary tract. It\\'s important to avoid giving him any over-the-counter medications without veterinary guidance. Additionally, try to prevent him from licking the affected area, as this can lead to further irritation.\n",
            "\n",
            "Regarding your dog\\'s diet, a balanced diet is essential for overall health. However, specific dietary changes to manage the UTI will depend on the severity and your dog\\'s individual needs. Once we have the urinalysis results, we can discuss any necessary dietary adjustments or supplements to help support his urinary tract health.\n",
            "\n",
            "Lastly, while UTIs are uncommonly transmitted between dogs and humans, it\\'s always a good idea to practice good hygiene. Remember to wash your hands thoroughly after handling your dog or cleaning up any accidents. If you have any concerns about your own health or suspect any symptoms, it\\'s best to consult with your doctor.\n",
            "\n",
            "Please feel free to reach out to me or the veterinarian if you have any further questions or concerns during the treatment process. We are here to support you and your dog every step of the way. Wishing your furry friend a speedy recovery!\n",
            "\n",
            "Best regards,\n",
            "[Your Name]\n",
            "\n",
            "2. The two top kinship_article_title along with the kinship_article_url for the following veterinarian chat session with a user:\n",
            "\n",
            "1. UTIs Suck for Your Cat, Too | How to Treat Cat UTIs\n",
            "   kinship_article_url: https://thewildest.com/cat-health/cat-uti\n",
            "\n",
            "2. UTIs in Dogs: Causes, Symptoms, and Treatment\n",
            "   kinship_article_url: https://thewildest.com/dog-health/dog-uti\n"
          ]
        }
      ]
    },
    {
      "cell_type": "code",
      "source": [
        "#Test 7 Kinship LLM version 2 - conversation between Vet dog and a doctor and dog had  Urinary Tract Infection testing in the Web_Welcome\n",
        "from gradio_client import Client\n",
        "import pandas as pd\n",
        "df = pd.read_csv('testing_csv - Sheet1.csv')\n",
        "conversation= df.loc[1, 'input']\n",
        "\n",
        "client = Client(api_url)\n",
        "result = client.predict(conversation,\n",
        "\t\t\"Web_Welcome\",\t# Literal[End_Chat, Mid_Chat, Email, Web_Welcome]  in 'Vet Chat Function:' Radio component\n",
        "\t\tFalse,\t# bool  in 'JSON Output' Checkbox component\n",
        "\t\tapi_name=\"/predict\"\n",
        ")\n",
        "print(result)"
      ],
      "metadata": {
        "colab": {
          "base_uri": "https://localhost:8080/"
        },
        "id": "CUUwLqOOwgXM",
        "outputId": "23e0f908-d836-444c-bbeb-6dee376aede9"
      },
      "execution_count": 4,
      "outputs": [
        {
          "output_type": "stream",
          "name": "stdout",
          "text": [
            "Loaded as API: https://duchaba-kinship-llm-v2.hf.space/--replicas/4v6mn/ ✔\n",
            "1. Welcome to the veterinarian chat! I\\'m here to help you with any questions or concerns you have about your pet\\'s health. Feel free to ask anything, and I\\'ll provide you with the best advice and guidance based on my expertise. Let\\'s work together to ensure your furry friend stays happy and healthy!\n",
            "\n",
            "2. The two top kinship_article_title along with the kinship_article_url are:\n",
            "- \\\"UTIs Suck for Your Cat, Too | How to Treat Cat UTIs\\\" - [https://thewildest.com/cat-health/cat-uti]\n",
            "- \\\"Your Veterinarian\\'s Top 8 Pet Peeves\\\" - [https://thewildest.com/pet-health/veterinarians-pet-peeves]\n"
          ]
        }
      ]
    },
    {
      "cell_type": "code",
      "source": [
        "#Test 8 Kinship LLM version 2 - Mid conversation between Vet dog and a doctor and dog had Urinary Tract Infection, testing in the Mid_chat\n",
        "from gradio_client import Client\n",
        "import pandas as pd\n",
        "df = pd.read_csv('testing_csv - Sheet1.csv')\n",
        "conversation= df.loc[4, 'input']\n",
        "\n",
        "client = Client(api_url)\n",
        "result = client.predict(conversation,\n",
        "\t\t\"Mid_Chat\",\t# Literal[End_Chat, Mid_Chat, Email, Web_Welcome]  in 'Vet Chat Function:' Radio component\n",
        "\t\tFalse,\t# bool  in 'JSON Output' Checkbox component\n",
        "\t\tapi_name=\"/predict\"\n",
        ")\n",
        "print(result)"
      ],
      "metadata": {
        "colab": {
          "base_uri": "https://localhost:8080/"
        },
        "id": "Y6NHgrKvzoLL",
        "outputId": "b3f39d56-0a75-40a1-a36e-1740cf57adc3"
      },
      "execution_count": 7,
      "outputs": [
        {
          "output_type": "stream",
          "name": "stdout",
          "text": [
            "Loaded as API: https://duchaba-kinship-llm-v2.hf.space/--replicas/4v6mn/ ✔\n",
            "1. UTIs Suck for Your Cat, Too | How to Treat Cat UTIs\n",
            "   - kinship_article_url: https://thewildest.com/cat-health/cat-uti\n",
            "\n",
            "2. N/A (There is no second kinship_article_title mentioned in the context)\n"
          ]
        }
      ]
    }
  ]
}