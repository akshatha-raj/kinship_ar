{
  "nbformat": 4,
  "nbformat_minor": 0,
  "metadata": {
    "colab": {
      "provenance": [],
      "authorship_tag": "ABX9TyNaB1V+gZMNccnQwpo8YR0u",
      "include_colab_link": true
    },
    "kernelspec": {
      "name": "python3",
      "display_name": "Python 3"
    },
    "language_info": {
      "name": "python"
    }
  },
  "cells": [
    {
      "cell_type": "markdown",
      "metadata": {
        "id": "view-in-github",
        "colab_type": "text"
      },
      "source": [
        "<a href=\"https://colab.research.google.com/github/akshatha-raj/kinship_ar/blob/main/Kinship_Nov7.ipynb\" target=\"_parent\"><img src=\"https://colab.research.google.com/assets/colab-badge.svg\" alt=\"Open In Colab\"/></a>"
      ]
    },
    {
      "cell_type": "code",
      "execution_count": 1,
      "metadata": {
        "colab": {
          "base_uri": "https://localhost:8080/"
        },
        "id": "kSa4gbaTMK17",
        "outputId": "cedc0695-720a-4592-d899-35a1250bbdca"
      },
      "outputs": [
        {
          "output_type": "stream",
          "name": "stdout",
          "text": [
            "Collecting gradio_client\n",
            "  Downloading gradio_client-0.7.0-py3-none-any.whl (302 kB)\n",
            "\u001b[?25l     \u001b[90m━━━━━━━━━━━━━━━━━━━━━━━━━━━━━━━━━━━━━━━━\u001b[0m \u001b[32m0.0/302.7 kB\u001b[0m \u001b[31m?\u001b[0m eta \u001b[36m-:--:--\u001b[0m\r\u001b[2K     \u001b[91m━━━━━━━━━━━━━━━━━━━━━\u001b[0m\u001b[91m╸\u001b[0m\u001b[90m━━━━━━━━━━━━━━━━━━\u001b[0m \u001b[32m163.8/302.7 kB\u001b[0m \u001b[31m5.1 MB/s\u001b[0m eta \u001b[36m0:00:01\u001b[0m\r\u001b[2K     \u001b[90m━━━━━━━━━━━━━━━━━━━━━━━━━━━━━━━━━━━━━━━━\u001b[0m \u001b[32m302.7/302.7 kB\u001b[0m \u001b[31m5.8 MB/s\u001b[0m eta \u001b[36m0:00:00\u001b[0m\n",
            "\u001b[?25hRequirement already satisfied: fsspec in /usr/local/lib/python3.10/dist-packages (from gradio_client) (2023.6.0)\n",
            "Collecting httpx (from gradio_client)\n",
            "  Downloading httpx-0.25.1-py3-none-any.whl (75 kB)\n",
            "\u001b[2K     \u001b[90m━━━━━━━━━━━━━━━━━━━━━━━━━━━━━━━━━━━━━━━━\u001b[0m \u001b[32m75.0/75.0 kB\u001b[0m \u001b[31m8.9 MB/s\u001b[0m eta \u001b[36m0:00:00\u001b[0m\n",
            "\u001b[?25hCollecting huggingface-hub>=0.13.0 (from gradio_client)\n",
            "  Downloading huggingface_hub-0.18.0-py3-none-any.whl (301 kB)\n",
            "\u001b[2K     \u001b[90m━━━━━━━━━━━━━━━━━━━━━━━━━━━━━━━━━━━━━━━━\u001b[0m \u001b[32m302.0/302.0 kB\u001b[0m \u001b[31m9.7 MB/s\u001b[0m eta \u001b[36m0:00:00\u001b[0m\n",
            "\u001b[?25hRequirement already satisfied: packaging in /usr/local/lib/python3.10/dist-packages (from gradio_client) (23.2)\n",
            "Requirement already satisfied: requests~=2.0 in /usr/local/lib/python3.10/dist-packages (from gradio_client) (2.31.0)\n",
            "Requirement already satisfied: typing-extensions~=4.0 in /usr/local/lib/python3.10/dist-packages (from gradio_client) (4.5.0)\n",
            "Collecting websockets<12.0,>=10.0 (from gradio_client)\n",
            "  Downloading websockets-11.0.3-cp310-cp310-manylinux_2_5_x86_64.manylinux1_x86_64.manylinux_2_17_x86_64.manylinux2014_x86_64.whl (129 kB)\n",
            "\u001b[2K     \u001b[90m━━━━━━━━━━━━━━━━━━━━━━━━━━━━━━━━━━━━━━━━\u001b[0m \u001b[32m129.9/129.9 kB\u001b[0m \u001b[31m8.4 MB/s\u001b[0m eta \u001b[36m0:00:00\u001b[0m\n",
            "\u001b[?25hRequirement already satisfied: filelock in /usr/local/lib/python3.10/dist-packages (from huggingface-hub>=0.13.0->gradio_client) (3.12.4)\n",
            "Requirement already satisfied: tqdm>=4.42.1 in /usr/local/lib/python3.10/dist-packages (from huggingface-hub>=0.13.0->gradio_client) (4.66.1)\n",
            "Requirement already satisfied: pyyaml>=5.1 in /usr/local/lib/python3.10/dist-packages (from huggingface-hub>=0.13.0->gradio_client) (6.0.1)\n",
            "Requirement already satisfied: charset-normalizer<4,>=2 in /usr/local/lib/python3.10/dist-packages (from requests~=2.0->gradio_client) (3.3.1)\n",
            "Requirement already satisfied: idna<4,>=2.5 in /usr/local/lib/python3.10/dist-packages (from requests~=2.0->gradio_client) (3.4)\n",
            "Requirement already satisfied: urllib3<3,>=1.21.1 in /usr/local/lib/python3.10/dist-packages (from requests~=2.0->gradio_client) (2.0.7)\n",
            "Requirement already satisfied: certifi>=2017.4.17 in /usr/local/lib/python3.10/dist-packages (from requests~=2.0->gradio_client) (2023.7.22)\n",
            "Requirement already satisfied: anyio in /usr/local/lib/python3.10/dist-packages (from httpx->gradio_client) (3.7.1)\n",
            "Collecting httpcore (from httpx->gradio_client)\n",
            "  Downloading httpcore-1.0.1-py3-none-any.whl (76 kB)\n",
            "\u001b[2K     \u001b[90m━━━━━━━━━━━━━━━━━━━━━━━━━━━━━━━━━━━━━━━━\u001b[0m \u001b[32m76.9/76.9 kB\u001b[0m \u001b[31m10.4 MB/s\u001b[0m eta \u001b[36m0:00:00\u001b[0m\n",
            "\u001b[?25hRequirement already satisfied: sniffio in /usr/local/lib/python3.10/dist-packages (from httpx->gradio_client) (1.3.0)\n",
            "Requirement already satisfied: exceptiongroup in /usr/local/lib/python3.10/dist-packages (from anyio->httpx->gradio_client) (1.1.3)\n",
            "Collecting h11<0.15,>=0.13 (from httpcore->httpx->gradio_client)\n",
            "  Downloading h11-0.14.0-py3-none-any.whl (58 kB)\n",
            "\u001b[2K     \u001b[90m━━━━━━━━━━━━━━━━━━━━━━━━━━━━━━━━━━━━━━━━\u001b[0m \u001b[32m58.3/58.3 kB\u001b[0m \u001b[31m8.0 MB/s\u001b[0m eta \u001b[36m0:00:00\u001b[0m\n",
            "\u001b[?25hInstalling collected packages: websockets, h11, huggingface-hub, httpcore, httpx, gradio_client\n",
            "Successfully installed gradio_client-0.7.0 h11-0.14.0 httpcore-1.0.1 httpx-0.25.1 huggingface-hub-0.18.0 websockets-11.0.3\n"
          ]
        }
      ],
      "source": [
        "!pip install gradio_client"
      ]
    },
    {
      "cell_type": "code",
      "source": [
        "api_url = \"https://duchaba-kinship-llm.hf.space/--replicas/gm6gt/\"\n",
        "\n",
        "# You can use the 'api_url' variable in the remaining script\n",
        "print(\"The URL is:\", api_url)"
      ],
      "metadata": {
        "colab": {
          "base_uri": "https://localhost:8080/"
        },
        "id": "hTrO7QX2MWcV",
        "outputId": "17c58372-ac2f-4038-b2a6-e16c5aadb170"
      },
      "execution_count": 2,
      "outputs": [
        {
          "output_type": "stream",
          "name": "stdout",
          "text": [
            "The URL is: https://duchaba-kinship-llm.hf.space/--replicas/gm6gt/\n"
          ]
        }
      ]
    },
    {
      "cell_type": "code",
      "source": [
        "# Test 1 - Howdy with Summary\n",
        "from gradio_client import Client\n",
        "\n",
        "client = Client(api_url)\n",
        "result = client.predict(\n",
        "\t\t\"A pet cat is distressed about its wet fur and incessant scratching and seeks help from a doctor. However, the doctor informs the cat that as a human doctor, he is unable to treat pets and recommends seeking help from a veterinarian.\",\n",
        "\t\t\"Summary\",\t# str  in 'POC Function' Radio component\n",
        "\t\tapi_name=\"/predict\"\n",
        ")\n",
        "print(result)"
      ],
      "metadata": {
        "colab": {
          "base_uri": "https://localhost:8080/"
        },
        "id": "NMAcOXNSMbQQ",
        "outputId": "0a073840-cf14-4778-9a98-e550b6af04fe"
      },
      "execution_count": 4,
      "outputs": [
        {
          "output_type": "stream",
          "name": "stdout",
          "text": [
            "Loaded as API: https://duchaba-kinship-llm.hf.space/--replicas/7nlvz/ ✔\n",
            "LLM Response:\n",
            "------------\n",
            "The conversation is about a pet cat that is having issues with wet fur and constant scratching. It sought help from a human doctor, who told the cat that he wasn't able to treat pets and suggested it to visit a veterinarian instead.\n",
            "------------\n",
            "Cost: $0.008\n",
            "LLM CPU Time Sec: 0.0689\n"
          ]
        }
      ]
    },
    {
      "cell_type": "code",
      "source": [
        "# Test 2 - testing in spain language with Summary\n",
        "from gradio_client import Client\n",
        "\n",
        "client = Client(api_url)\n",
        "result = client.predict(\n",
        "\t\t\"Médico: Hola, Veterinario Rodríguez. Por supuesto, haré todo lo posible por ayudarte. ¿Puedes proporcionarme más información sobre la condición del perro y el posible tóxico que podría haber ingerido?\",\n",
        "\t\t\"Summary\",\t# str  in 'POC Function' Radio component\n",
        "\t\tapi_name=\"/predict\"\n",
        ")\n",
        "print(result)\n"
      ],
      "metadata": {
        "colab": {
          "base_uri": "https://localhost:8080/"
        },
        "id": "wBCvfySZNukZ",
        "outputId": "b89f1c5c-5ad5-46e3-96ee-86ef4601ea6c"
      },
      "execution_count": 5,
      "outputs": [
        {
          "output_type": "stream",
          "name": "stdout",
          "text": [
            "Loaded as API: https://duchaba-kinship-llm.hf.space/--replicas/7nlvz/ ✔\n",
            "LLM Response:\n",
            "------------\n",
            "The doctor greets Veterinarian Rodriguez and assures him that he will do his best to help. He asks for more information about the dog's condition and the possible toxin it may have ingested.\n",
            "------------\n",
            "Cost: $0.008\n",
            "LLM CPU Time Sec: 0.0537\n"
          ]
        }
      ]
    },
    {
      "cell_type": "code",
      "source": [
        "# Test 3 - testing the conv in spain and german language with Summary\n",
        "from gradio_client import Client\n",
        "\n",
        "client = Client(api_url)\n",
        "result = client.predict(\n",
        "\t\t\"Tierarzt (Veterinarian): Guten Tag! Ich habe einen seltsamen Fall in meiner Tierklinik. Ein Hund namens Max zeigt ungewöhnliche Symptome, und der Besitzer sagt, dass er seit einigen Tagen sehr träge ist. Können Sie mir helfen? Médico (Doctor): ¡Hola! Claro, haré lo posible por ayudarte. Beschreibe mir bitte die Symptome von Max genauer, damit ich eine bessere Vorstellung habe. Tierarzt: Max ist ein 4-jähriger Labrador. Er hat seit ein paar Tagen Erbrechen und Durchfall. Der Besitzer sagt, dass er auch Gewicht verloren hat und sehr müde ist. Médico: Entiendo. Esos síntomas könnten auf verschiedene Probleme hinweisen. Habéis realizado alguna prueba o análisis para descartar ciertas enfermedades? Tierarzt: Ja, wir haben bereits Blutuntersuchungen durchgeführt. Die Ergebnisse zeigten erhöhte Leberenzyme und Anzeichen von Entzündung. Wir sind besorgt, dass es etwas Ernstes sein könnte.?\",\n",
        "\t\t\"Summary\",\t# str  in 'POC Function' Radio component\n",
        "\t\tapi_name=\"/predict\"\n",
        ")\n",
        "print(result)"
      ],
      "metadata": {
        "colab": {
          "base_uri": "https://localhost:8080/"
        },
        "id": "d3fNK0KpPQFH",
        "outputId": "a3aa4864-e497-4c2f-88da-e326ab669bff"
      },
      "execution_count": 6,
      "outputs": [
        {
          "output_type": "stream",
          "name": "stdout",
          "text": [
            "Loaded as API: https://duchaba-kinship-llm.hf.space/--replicas/7nlvz/ ✔\n",
            "LLM Response:\n",
            "------------\n",
            "The conversation is between a Veterinarian and a Doctor. The Veterinarian needs help with an unusual case involving a dog named Max, who has been showing unusual symptoms and has been lethargic for several days. Max, a four-year-old Labrador, has been vomiting, experiencing diarrhea, and has lost weight and is very tired recently. Blood tests indicate elevated liver enzymes and signs of inflammation. They are concerned about the seriousness of Max's condition. The Doctor suggests these symptoms could indicate various issues and inquires if any tests or analyses have been conducted to rule out certain diseases.\n",
            "------------\n",
            "Cost: $0.0262\n",
            "LLM CPU Time Sec: 0.0518\n"
          ]
        }
      ]
    },
    {
      "cell_type": "code",
      "source": [
        "# Test 4 - testing the conv in Panjabi and german language with Summary\n",
        "\n",
        "from gradio_client import Client\n",
        "\n",
        "client = Client(api_url)\n",
        "result = client.predict(\n",
        "\t\t\"ਪੈਸ਼ਾਵਰੀ (Veterinarian): ਸਤ ਸ੍ਰੀ ਅਕਾਲ! ਮੈਂਨੂੰ ਮੇਰੇ ਅਸਪਤਾਲ ਵਿਚ ਇੱਕ ਅਜੀਬ ਮਾਮਲਾ ਹੈ। ਇੱਕ ਕੁੱਤੇ ਦਾ ਨਾਮ ਮੈਕਸ ਹੈ, ਜਿਸ ਦੇ ਅਸਲੇ ਇਕਦਮ ਵੀ ਅਜੀਬ ਹਨ, ਅਤੇ ਮਾਲਕ ਕਹਿੰਦੇ ਨੇ ਕਿ ਇਹ ਕੁਝ ਦਿਨੀਂ ਬੋਹਤ ਸੰਤੁਲਿਤ ਹੈ। ਤੁਸੀਂ ਮੇਨੂੰ ਸਹਾਇਤਾ ਕਰ ਸਕਦੇ ਹੋ? Doctor (Médico): ¡Hola! Claro, haré todo lo posible para ayudarte. Por favor, descríbeme con más detalle los síntomas de Max para que pueda entender mejor.\",\n",
        "\t\t\"Summary\",\t# str  in 'POC Function' Radio component\n",
        "\t\tapi_name=\"/predict\"\n",
        ")\n",
        "print(result)"
      ],
      "metadata": {
        "colab": {
          "base_uri": "https://localhost:8080/"
        },
        "id": "RQ7jXko1QB8N",
        "outputId": "a07abfc5-b291-47b6-f729-b971564003b8"
      },
      "execution_count": 7,
      "outputs": [
        {
          "output_type": "stream",
          "name": "stdout",
          "text": [
            "Loaded as API: https://duchaba-kinship-llm.hf.space/--replicas/7nlvz/ ✔\n",
            "LLM Response:\n",
            "------------\n",
            "The veterinarian, named Peshawari, greets and informs about a strange case in his hospital. He mentions a dog called Max, who according to the owner has been very balanced for a few days, but the actual symptoms are quite odd. The veterinarian asks for help. The Doctor, who speaks Spanish, affirms his readiness to help and asks Peshawari to describe Max's symptoms in more detail for a better understanding.\n",
            "------------\n",
            "Cost: $0.0323\n",
            "LLM CPU Time Sec: 0.0751\n"
          ]
        }
      ]
    },
    {
      "cell_type": "code",
      "source": [
        "# Test 5 - testing the conv using .csv file with Summary\n",
        "\n",
        "from gradio_client import Client\n",
        "import pandas as pd\n",
        "df = pd.read_csv('testing_csv - Sheet1.csv')\n",
        "conversation= df.loc[0, 'input']\n",
        "\n",
        "client = Client(api_url)\n",
        "result = client.predict(conversation,\n",
        "                        \"Summary\",\t# str  in 'POC Function' Radio component\n",
        "\t\tapi_name=\"/predict\"\n",
        ")\n",
        "print(result)\n",
        "\n",
        ""
      ],
      "metadata": {
        "colab": {
          "base_uri": "https://localhost:8080/"
        },
        "id": "J-M9vbYhOHVx",
        "outputId": "9bc2fee7-6a94-45eb-a5fc-70b94516bc16"
      },
      "execution_count": 4,
      "outputs": [
        {
          "output_type": "stream",
          "name": "stdout",
          "text": [
            "Loaded as API: https://duchaba-kinship-llm.hf.space/--replicas/gm6gt/ ✔\n",
            "LLM Response:\n",
            "------------\n",
            "Vet Johnson is communicating with Dr. Smith about a 6-year-old Golden Retriever, named Max, experiencing mobility issues and joint pain. Dr. Smith wants to know more details about Max's symptoms to determine potential underlying medical conditions.\n",
            "------------\n",
            "Cost: $0.0103\n",
            "LLM CPU Time Sec: 0.0448\n"
          ]
        }
      ]
    },
    {
      "cell_type": "code",
      "source": [
        "# Test 6 - testing the conv using .csv file with Summary\n",
        "\n",
        "from gradio_client import Client\n",
        "import pandas as pd\n",
        "df = pd.read_csv('testing_csv - Sheet1.csv')\n",
        "conversation= df.loc[0, 'input']\n",
        "\n",
        "client = Client(api_url)\n",
        "result = client.predict(conversation,\n",
        "                        \"Summary\",\t# str  in 'POC Function' Radio component\n",
        "\t\tapi_name=\"/predict\"\n",
        ")\n",
        "print(result)\n",
        ""
      ],
      "metadata": {
        "id": "6F12F3iAQam3"
      },
      "execution_count": null,
      "outputs": []
    }
  ]
}