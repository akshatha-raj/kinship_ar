{
  "nbformat": 4,
  "nbformat_minor": 0,
  "metadata": {
    "colab": {
      "provenance": [],
      "authorship_tag": "ABX9TyPuhkFY06iO7YwI+Ev0elTE",
      "include_colab_link": true
    },
    "kernelspec": {
      "name": "python3",
      "display_name": "Python 3"
    },
    "language_info": {
      "name": "python"
    }
  },
  "cells": [
    {
      "cell_type": "markdown",
      "metadata": {
        "id": "view-in-github",
        "colab_type": "text"
      },
      "source": [
        "<a href=\"https://colab.research.google.com/github/akshatha-raj/kinship_ar/blob/main/kinship_Nov6.ipynb\" target=\"_parent\"><img src=\"https://colab.research.google.com/assets/colab-badge.svg\" alt=\"Open In Colab\"/></a>"
      ]
    },
    {
      "cell_type": "code",
      "execution_count": null,
      "metadata": {
        "id": "CECU8_n_8GyB"
      },
      "outputs": [],
      "source": [
        "!pip install gradio_client"
      ]
    },
    {
      "cell_type": "code",
      "source": [
        "api_url = \"https://duchaba-kinship-llm.hf.space/--replicas/7nlvz/\"\n",
        "\n",
        "# You can use the 'api_url' variable in the remaining script\n",
        "print(\"The URL is:\", api_url)"
      ],
      "metadata": {
        "colab": {
          "base_uri": "https://localhost:8080/"
        },
        "id": "InoiqRsqO4QB",
        "outputId": "542b7dd1-5b67-4233-d0c0-df97c3d351e2"
      },
      "execution_count": null,
      "outputs": [
        {
          "output_type": "stream",
          "name": "stdout",
          "text": [
            "The URL is: https://duchaba-kinship-llm.hf.space/--replicas/7nlvz/\n"
          ]
        }
      ]
    },
    {
      "cell_type": "code",
      "source": [
        "# Test 1 - Howdy with Summary\n",
        "from gradio_client import Client\n",
        "\n",
        "client = Client(api_url)\n",
        "result = client.predict(\n",
        "\t\t\"Howdy!\",\t# str  in 'Vet Chat Session:' Textbox component\n",
        "\t\t\"Summary\",\t# str  in 'POC Function' Radio component\n",
        "\t\tapi_name=\"/predict\"\n",
        ")\n",
        "print(result)"
      ],
      "metadata": {
        "colab": {
          "base_uri": "https://localhost:8080/"
        },
        "id": "ydBoJxIm8UHA",
        "outputId": "12555528-03be-418c-e919-1ab2c1581609"
      },
      "execution_count": null,
      "outputs": [
        {
          "output_type": "stream",
          "name": "stdout",
          "text": [
            "Loaded as API: https://duchaba-kinship-llm.hf.space/--replicas/7nlvz/ ✔\n",
            "LLM Response:\n",
            "------------\n",
            "The conversation consists of a single greeting, \"Howdy!\"\n",
            "------------\n",
            "Cost: $0.0026\n",
            "LLM CPU Time Sec: 0.0357\n"
          ]
        }
      ]
    },
    {
      "cell_type": "code",
      "source": [
        "# Test 2 - ನಮಸ್ಕಾರ with Summary\n",
        "from gradio_client import Client\n",
        "\n",
        "client = Client(\"https://duchaba-kinship-llm.hf.space/--replicas/7nlvz/\")\n",
        "result = client.predict(\n",
        "\t\t\"ನಮಸ್ಕಾರ\",\t# str  in 'Vet Chat Session:' Textbox component\n",
        "\t\t\"Summary\",\t# str  in 'POC Function' Radio component\n",
        "\t\tapi_name=\"/predict\"\n",
        ")\n",
        "print(result)"
      ],
      "metadata": {
        "colab": {
          "base_uri": "https://localhost:8080/"
        },
        "id": "NbJubktkEEcG",
        "outputId": "0ef194e3-7249-4750-c139-f357dc41efc1"
      },
      "execution_count": null,
      "outputs": [
        {
          "output_type": "stream",
          "name": "stdout",
          "text": [
            "Loaded as API: https://duchaba-kinship-llm.hf.space/--replicas/7nlvz/ ✔\n",
            "LLM Response:\n",
            "------------\n",
            "The conversation simply consists of a greeting. The word \"Namaskar\" is a respectful form of greeting in many Indian languages expressing hello or welcome.\n",
            "------------\n",
            "Cost: $0.0046\n",
            "LLM CPU Time Sec: 0.0141\n"
          ]
        }
      ]
    },
    {
      "cell_type": "code",
      "source": [
        "# Test 3 - Normal conversation between wet and doctor in Summary\n",
        "from gradio_client import Client\n",
        "\n",
        "client = Client(\"https://duchaba-kinship-llm.hf.space/--replicas/7nlvz/\")\n",
        "result = client.predict(\n",
        "\t\t\"Person: Doctor, I got caught in the rain and I'm completely soaked. Is there anything I should be concerned about? Doctor: Hello! I understand your concern. Being wet for an extended period can have some implications. Have you experienced any symptoms or discomfort since getting we\",\n",
        "\t\t\"Summary\",\n",
        "\t\tapi_name=\"/predict\"\n",
        ")\n",
        "print(result)"
      ],
      "metadata": {
        "colab": {
          "base_uri": "https://localhost:8080/"
        },
        "id": "KQSUJ-ThWhZZ",
        "outputId": "5cba75c9-840f-4ac9-e6f3-5f6e0e7d6daf"
      },
      "execution_count": null,
      "outputs": [
        {
          "output_type": "stream",
          "name": "stdout",
          "text": [
            "Loaded as API: https://duchaba-kinship-llm.hf.space/--replicas/7nlvz/ ✔\n",
            "LLM Response:\n",
            "------------\n",
            "A person talks to a doctor about getting caught in the rain and getting extremely wet. They want to know if they should be worried about any possible health issues. The doctor acknowledges their concern and asks if the person has experienced any symptoms or discomfort since the incident.\n",
            "------------\n",
            "Cost: $0.0088\n",
            "LLM CPU Time Sec: 0.051\n"
          ]
        }
      ]
    },
    {
      "cell_type": "code",
      "source": [
        "# Test 4 - Normal conversation between wet and doctor in Summary\n",
        "from gradio_client import Client\n",
        "\n",
        "client = Client(api_url)\n",
        "result = client.predict(\n",
        "\t\t\"Pet Wet: Meow! Meow! My fur is so wet, and I can't stop scratching. Help me, doctor! Doctor: I'm sorry, but I'm a human doctor, and I don't treat pets like you. You should visit a veterinarian for your cat.\",\n",
        "\t\t\"Summary\",\n",
        "\t\tapi_name=\"/predict\"\n",
        ")\n",
        "print(result)"
      ],
      "metadata": {
        "colab": {
          "base_uri": "https://localhost:8080/"
        },
        "id": "ezu6HY4If0FZ",
        "outputId": "5dad4acf-ae7b-4f79-9c71-992c87634ccc"
      },
      "execution_count": null,
      "outputs": [
        {
          "output_type": "stream",
          "name": "stdout",
          "text": [
            "Loaded as API: https://duchaba-kinship-llm.hf.space/--replicas/7nlvz/ ✔\n",
            "LLM Response:\n",
            "------------\n",
            "A pet cat is distressed about its wet fur and incessant scratching and seeks help from a doctor. However, the doctor informs the cat that as a human doctor, he is unable to treat pets and recommends seeking help from a veterinarian.\n",
            "\n",
            "------------\n",
            "Cost: $0.0087\n",
            "LLM CPU Time Sec: 0.037\n"
          ]
        }
      ]
    }
  ]
}