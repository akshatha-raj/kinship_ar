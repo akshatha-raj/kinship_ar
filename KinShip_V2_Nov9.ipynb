{
  "nbformat": 4,
  "nbformat_minor": 0,
  "metadata": {
    "colab": {
      "provenance": [],
      "authorship_tag": "ABX9TyP8Goo5mQ+7g83ZUrmDGcMK",
      "include_colab_link": true
    },
    "kernelspec": {
      "name": "python3",
      "display_name": "Python 3"
    },
    "language_info": {
      "name": "python"
    }
  },
  "cells": [
    {
      "cell_type": "markdown",
      "metadata": {
        "id": "view-in-github",
        "colab_type": "text"
      },
      "source": [
        "<a href=\"https://colab.research.google.com/github/akshatha-raj/kinship_ar/blob/main/KinShip_V2_Nov9.ipynb\" target=\"_parent\"><img src=\"https://colab.research.google.com/assets/colab-badge.svg\" alt=\"Open In Colab\"/></a>"
      ]
    },
    {
      "cell_type": "code",
      "execution_count": null,
      "metadata": {
        "colab": {
          "base_uri": "https://localhost:8080/"
        },
        "id": "DpvrjtDr32-X",
        "outputId": "97ad3f1c-abdb-42fa-ccd7-aa89325bc131"
      },
      "outputs": [
        {
          "output_type": "stream",
          "name": "stdout",
          "text": [
            "Collecting gradio_client\n",
            "  Downloading gradio_client-0.7.0-py3-none-any.whl (302 kB)\n",
            "\u001b[?25l     \u001b[90m━━━━━━━━━━━━━━━━━━━━━━━━━━━━━━━━━━━━━━━━\u001b[0m \u001b[32m0.0/302.7 kB\u001b[0m \u001b[31m?\u001b[0m eta \u001b[36m-:--:--\u001b[0m\r\u001b[2K     \u001b[91m━━━━━━━━━━━━━━━━━━\u001b[0m\u001b[91m╸\u001b[0m\u001b[90m━━━━━━━━━━━━━━━━━━━━━\u001b[0m \u001b[32m143.4/302.7 kB\u001b[0m \u001b[31m4.3 MB/s\u001b[0m eta \u001b[36m0:00:01\u001b[0m\r\u001b[2K     \u001b[90m━━━━━━━━━━━━━━━━━━━━━━━━━━━━━━━━━━━━━━━━\u001b[0m \u001b[32m302.7/302.7 kB\u001b[0m \u001b[31m5.2 MB/s\u001b[0m eta \u001b[36m0:00:00\u001b[0m\n",
            "\u001b[?25hRequirement already satisfied: fsspec in /usr/local/lib/python3.10/dist-packages (from gradio_client) (2023.6.0)\n",
            "Collecting httpx (from gradio_client)\n",
            "  Downloading httpx-0.25.1-py3-none-any.whl (75 kB)\n",
            "\u001b[2K     \u001b[90m━━━━━━━━━━━━━━━━━━━━━━━━━━━━━━━━━━━━━━━━\u001b[0m \u001b[32m75.0/75.0 kB\u001b[0m \u001b[31m4.8 MB/s\u001b[0m eta \u001b[36m0:00:00\u001b[0m\n",
            "\u001b[?25hCollecting huggingface-hub>=0.13.0 (from gradio_client)\n",
            "  Downloading huggingface_hub-0.19.0-py3-none-any.whl (311 kB)\n",
            "\u001b[2K     \u001b[90m━━━━━━━━━━━━━━━━━━━━━━━━━━━━━━━━━━━━━━━━\u001b[0m \u001b[32m311.2/311.2 kB\u001b[0m \u001b[31m9.2 MB/s\u001b[0m eta \u001b[36m0:00:00\u001b[0m\n",
            "\u001b[?25hRequirement already satisfied: packaging in /usr/local/lib/python3.10/dist-packages (from gradio_client) (23.2)\n",
            "Requirement already satisfied: requests~=2.0 in /usr/local/lib/python3.10/dist-packages (from gradio_client) (2.31.0)\n",
            "Requirement already satisfied: typing-extensions~=4.0 in /usr/local/lib/python3.10/dist-packages (from gradio_client) (4.5.0)\n",
            "Collecting websockets<12.0,>=10.0 (from gradio_client)\n",
            "  Downloading websockets-11.0.3-cp310-cp310-manylinux_2_5_x86_64.manylinux1_x86_64.manylinux_2_17_x86_64.manylinux2014_x86_64.whl (129 kB)\n",
            "\u001b[2K     \u001b[90m━━━━━━━━━━━━━━━━━━━━━━━━━━━━━━━━━━━━━━━━\u001b[0m \u001b[32m129.9/129.9 kB\u001b[0m \u001b[31m7.6 MB/s\u001b[0m eta \u001b[36m0:00:00\u001b[0m\n",
            "\u001b[?25hRequirement already satisfied: filelock in /usr/local/lib/python3.10/dist-packages (from huggingface-hub>=0.13.0->gradio_client) (3.13.1)\n",
            "Requirement already satisfied: tqdm>=4.42.1 in /usr/local/lib/python3.10/dist-packages (from huggingface-hub>=0.13.0->gradio_client) (4.66.1)\n",
            "Requirement already satisfied: pyyaml>=5.1 in /usr/local/lib/python3.10/dist-packages (from huggingface-hub>=0.13.0->gradio_client) (6.0.1)\n",
            "Requirement already satisfied: charset-normalizer<4,>=2 in /usr/local/lib/python3.10/dist-packages (from requests~=2.0->gradio_client) (3.3.2)\n",
            "Requirement already satisfied: idna<4,>=2.5 in /usr/local/lib/python3.10/dist-packages (from requests~=2.0->gradio_client) (3.4)\n",
            "Requirement already satisfied: urllib3<3,>=1.21.1 in /usr/local/lib/python3.10/dist-packages (from requests~=2.0->gradio_client) (2.0.7)\n",
            "Requirement already satisfied: certifi>=2017.4.17 in /usr/local/lib/python3.10/dist-packages (from requests~=2.0->gradio_client) (2023.7.22)\n",
            "Requirement already satisfied: anyio in /usr/local/lib/python3.10/dist-packages (from httpx->gradio_client) (3.7.1)\n",
            "Collecting httpcore (from httpx->gradio_client)\n",
            "  Downloading httpcore-1.0.2-py3-none-any.whl (76 kB)\n",
            "\u001b[2K     \u001b[90m━━━━━━━━━━━━━━━━━━━━━━━━━━━━━━━━━━━━━━━━\u001b[0m \u001b[32m76.9/76.9 kB\u001b[0m \u001b[31m8.9 MB/s\u001b[0m eta \u001b[36m0:00:00\u001b[0m\n",
            "\u001b[?25hRequirement already satisfied: sniffio in /usr/local/lib/python3.10/dist-packages (from httpx->gradio_client) (1.3.0)\n",
            "Requirement already satisfied: exceptiongroup in /usr/local/lib/python3.10/dist-packages (from anyio->httpx->gradio_client) (1.1.3)\n",
            "Collecting h11<0.15,>=0.13 (from httpcore->httpx->gradio_client)\n",
            "  Downloading h11-0.14.0-py3-none-any.whl (58 kB)\n",
            "\u001b[2K     \u001b[90m━━━━━━━━━━━━━━━━━━━━━━━━━━━━━━━━━━━━━━━━\u001b[0m \u001b[32m58.3/58.3 kB\u001b[0m \u001b[31m6.8 MB/s\u001b[0m eta \u001b[36m0:00:00\u001b[0m\n",
            "\u001b[?25hInstalling collected packages: websockets, h11, huggingface-hub, httpcore, httpx, gradio_client\n",
            "Successfully installed gradio_client-0.7.0 h11-0.14.0 httpcore-1.0.2 httpx-0.25.1 huggingface-hub-0.19.0 websockets-11.0.3\n"
          ]
        }
      ],
      "source": [
        "!pip install gradio_client"
      ]
    },
    {
      "cell_type": "code",
      "source": [
        "api_url = \"https://duchaba-kinship-llm-v2.hf.space/--replicas/4v6mn/\"\n",
        "\n",
        "# You can use the 'api_url' variable in the remaining script\n",
        "print(\"The URL is:\", api_url)"
      ],
      "metadata": {
        "colab": {
          "base_uri": "https://localhost:8080/"
        },
        "id": "14am7uie4SE_",
        "outputId": "51360863-206c-45e8-825e-a80c15c34b36"
      },
      "execution_count": null,
      "outputs": [
        {
          "output_type": "stream",
          "name": "stdout",
          "text": [
            "The URL is: https://duchaba-kinship-llm-v2.hf.space/--replicas/4v6mn/\n"
          ]
        }
      ]
    },
    {
      "cell_type": "code",
      "source": [
        "#Test 1 Kinship LLM version 2 - conversation between Vet cat and a doctor with Large conv and cat had Urinary Tract Infection, testing in the End_chat\n",
        "from gradio_client import Client\n",
        "import pandas as pd\n",
        "df = pd.read_csv('testing_csv - Sheet1.csv')\n",
        "conversation= df.loc[3, 'input']\n",
        "\n",
        "client = Client(api_url)\n",
        "result = client.predict(conversation,\n",
        "\t\t\"End_Chat\",\t# Literal[End_Chat, Mid_Chat, Email, Web_Welcome]  in 'Vet Chat Function:' Radio component\n",
        "\t\tFalse,\t# bool  in 'JSON Output' Checkbox component\n",
        "\t\tapi_name=\"/predict\"\n",
        ")\n",
        "print(result)"
      ],
      "metadata": {
        "colab": {
          "base_uri": "https://localhost:8080/"
        },
        "id": "F4ECgSsx4WbP",
        "outputId": "2ba4f9b9-dcb0-4df1-e5c6-7205c9a4ab50"
      },
      "execution_count": null,
      "outputs": [
        {
          "output_type": "stream",
          "name": "stdout",
          "text": [
            "Loaded as API: https://duchaba-kinship-llm-v2.hf.space/--replicas/4v6mn/ ✔\n",
            "Summary: The cat owner contacts the veterinarian suspecting that their cat has a urinary tract infection (UTI) due to urinating outside the litter box and discomfort. The veterinarian advises scheduling an appointment for a thorough examination and urinalysis to confirm the diagnosis. In the meantime, the cat owner is instructed to ensure the cat has access to fresh water, keep the litter box clean, and avoid giving over-the-counter medications without veterinary guidance. Dietary changes will be discussed based on the urinalysis results. The veterinarian reassures the cat owner that UTIs in cats are not typically contagious to humans but advises practicing good hygiene. The cat owner expresses gratitude for the advice and the veterinarian offers ongoing support during the treatment process.\n",
            "\n",
            "Top two kinship_article_title along with kinship_article_url:\n",
            "1. \\\"UTIs Suck for Your Cat, Too | How to Treat Cat UTIs\\\" - https://thewildest.com/cat-health/cat-uti\n",
            "2. (No second kinship_article_title provided)\n"
          ]
        }
      ]
    },
    {
      "cell_type": "code",
      "source": [
        "#Test 2 Kinship LLM version 2 - conversation between Vet cat and a doctor with small conv and cat had Urinary Tract Infection, testing in the End_chat\n",
        "from gradio_client import Client\n",
        "import pandas as pd\n",
        "df = pd.read_csv('testing_csv - Sheet1.csv')\n",
        "conversation= df.loc[2, 'input']\n",
        "\n",
        "client = Client(api_url)\n",
        "result = client.predict(conversation,\n",
        "\t\t\"End_Chat\",\t# Literal[End_Chat, Mid_Chat, Email, Web_Welcome]  in 'Vet Chat Function:' Radio component\n",
        "\t\tFalse,\t# bool  in 'JSON Output' Checkbox component\n",
        "\t\tapi_name=\"/predict\"\n",
        ")\n",
        "print(result)"
      ],
      "metadata": {
        "colab": {
          "base_uri": "https://localhost:8080/"
        },
        "id": "eImIhdNiLqmS",
        "outputId": "32757b26-6e2c-492c-edd6-923a21a52a0d"
      },
      "execution_count": null,
      "outputs": [
        {
          "output_type": "stream",
          "name": "stdout",
          "text": [
            "Loaded as API: https://duchaba-kinship-llm-v2.hf.space/--replicas/4v6mn/ ✔\n",
            "1. Summary: The cat owner is concerned about their cat urinating outside of the litter box and experiencing discomfort. The veterinarian suspects a urinary tract infection (UTI) and recommends scheduling an appointment for a thorough examination and urinalysis to confirm the diagnosis. In the meantime, the veterinarian advises providing fresh water to encourage urination and keeping the litter box clean and accessible. The cat owner is advised against giving any over-the-counter medications without veterinary guidance.\n",
            "\n",
            "2. Top two kinship_article_title along with kinship_article_url:\n",
            "- UTIs Suck for Your Cat, Too | How to Treat Cat UTIs\n",
            "   - kinship_article_url: https://thewildest.com/cat-health/cat-uti\n",
            "- UTIs Suck for Your Cat, Too\n",
            "   - kinship_article_url: https://thewildest.com/cat-health/cat-uti\n"
          ]
        }
      ]
    },
    {
      "cell_type": "code",
      "source": [
        "#Test 3 Kinship LLM version 2 - conversation between Vet cat and a doctor with Large conv and cat had Urinary Tract Infection, testing in the Mid_chat\n",
        "from gradio_client import Client\n",
        "import pandas as pd\n",
        "df = pd.read_csv('testing_csv - Sheet1.csv')\n",
        "conversation= df.loc[3, 'input']\n",
        "\n",
        "client = Client(api_url)\n",
        "result = client.predict(conversation,\n",
        "\t\t\"Mid_Chat\",\t# Literal[End_Chat, Mid_Chat, Email, Web_Welcome]  in 'Vet Chat Function:' Radio component\n",
        "\t\tFalse,\t# bool  in 'JSON Output' Checkbox component\n",
        "\t\tapi_name=\"/predict\"\n",
        ")\n",
        "print(result)"
      ],
      "metadata": {
        "colab": {
          "base_uri": "https://localhost:8080/"
        },
        "id": "3iW8C41SL5TG",
        "outputId": "58911cc0-fd89-4860-e478-94566d49a175"
      },
      "execution_count": null,
      "outputs": [
        {
          "output_type": "stream",
          "name": "stdout",
          "text": [
            "Loaded as API: https://duchaba-kinship-llm-v2.hf.space/--replicas/4v6mn/ ✔\n",
            "1. UTIs Suck for Your Cat, Too | How to Treat Cat UTIs - https://thewildest.com/cat-health/cat-uti\n",
            "2. Spot lumps, limps, and lethargy early on - [URL not provided]\n"
          ]
        }
      ]
    },
    {
      "cell_type": "code",
      "source": [
        "#Test 4 Kinship LLM version 2 - conversation between Vet cat and a doctor with small conv and cat had Urinary Tract Infection, testing in the Mid_chat\n",
        "from gradio_client import Client\n",
        "import pandas as pd\n",
        "df = pd.read_csv('testing_csv - Sheet1.csv')\n",
        "conversation= df.loc[2, 'input']\n",
        "\n",
        "client = Client(api_url)\n",
        "result = client.predict(conversation,\n",
        "\t\t\"Mid_Chat\",\t# Literal[End_Chat, Mid_Chat, Email, Web_Welcome]  in 'Vet Chat Function:' Radio component\n",
        "\t\tFalse,\t# bool  in 'JSON Output' Checkbox component\n",
        "\t\tapi_name=\"/predict\"\n",
        ")\n",
        "print(result)"
      ],
      "metadata": {
        "colab": {
          "base_uri": "https://localhost:8080/"
        },
        "id": "3v7FR0ToMICz",
        "outputId": "f68adf79-03c2-4159-f01b-2cc0ea24203e"
      },
      "execution_count": null,
      "outputs": [
        {
          "output_type": "stream",
          "name": "stdout",
          "text": [
            "Loaded as API: https://duchaba-kinship-llm-v2.hf.space/--replicas/4v6mn/ ✔\n",
            "1. UTIs Suck for Your Cat, Too | How to Treat Cat UTIs\n",
            "   - kinship_article_url: https://thewildest.com/cat-health/cat-uti\n",
            "\n",
            "2. N/A (There is no second kinship_article_title mentioned in the given context)\n"
          ]
        }
      ]
    },
    {
      "cell_type": "code",
      "source": [
        "#Test 5 Kinship LLM version 2 - conversation between Vet cat and a doctor with Large conv and cat had Urinary Tract Infection, testing in the Email\n",
        "from gradio_client import Client\n",
        "import pandas as pd\n",
        "df = pd.read_csv('testing_csv - Sheet1.csv')\n",
        "conversation= df.loc[3, 'input']\n",
        "\n",
        "client = Client(api_url)\n",
        "result = client.predict(conversation,\n",
        "\t\t\"Email\",\t# Literal[End_Chat, Mid_Chat, Email, Web_Welcome]  in 'Vet Chat Function:' Radio component\n",
        "\t\tFalse,\t# bool  in 'JSON Output' Checkbox component\n",
        "\t\tapi_name=\"/predict\"\n",
        ")\n",
        "print(result)"
      ],
      "metadata": {
        "colab": {
          "base_uri": "https://localhost:8080/"
        },
        "id": "3ogqaKxcMSOK",
        "outputId": "037f794f-1ec1-4849-e2a1-5afa3620af0d"
      },
      "execution_count": null,
      "outputs": [
        {
          "output_type": "stream",
          "name": "stdout",
          "text": [
            "Loaded as API: https://duchaba-kinship-llm-v2.hf.space/--replicas/4v6mn/ ✔\n",
            "Email to the user in veterinarian friendly natural conversational style:\n",
            "\n",
            "Subject: Regarding Your Cat\\'s Urinary Tract Infection\n",
            "\n",
            "Dear Cat Owner,\n",
            "\n",
            "I hope this email finds you well. I wanted to follow up on our recent chat session regarding your cat\\'s urinary tract infection (UTI). I understand that you have scheduled an appointment at the veterinary clinic for a thorough examination and urinalysis, which is a great step towards diagnosing and treating the UTI.\n",
            "\n",
            "In the meantime, there are a few things you can do to help relieve your cat\\'s discomfort. Make sure she has access to fresh water at all times to encourage urination and help flush out the urinary tract. Keeping her litter box clean and easily accessible is also important. It\\'s best to avoid giving her any over-the-counter medications without veterinary guidance.\n",
            "\n",
            "Regarding her diet, a balanced diet is crucial for overall health. However, specific dietary changes to manage the UTI will depend on the severity and your cat\\'s individual needs. Once we have the urinalysis results, we can discuss any necessary dietary adjustments or supplements to support her urinary tract health.\n",
            "\n",
            "I understand you had a concern about the UTI being contagious to humans. Rest assured, UTIs in cats are not typically contagious to humans. However, it\\'s always a good idea to practice good hygiene. Remember to wash your hands thoroughly after handling your cat or cleaning the litter box. If you have any concerns about your own health or suspect any symptoms, it\\'s best to consult with your doctor.\n",
            "\n",
            "Please feel free to reach out to me or the veterinarian if you have any further questions or concerns during the treatment process. We are here to support you and your cat. Wishing your furry friend a speedy recovery!\n",
            "\n",
            "Best regards,\n",
            "[Your Name]\n",
            "[Your Title/Position]\n",
            "\n",
            "Top kinship_article_title along with the kinship_article_url for the veterinarian chat session:\n",
            "\n",
            "1. \\\"UTIs Suck for Your Cat, Too | How to Treat Cat UTIs\\\"\n",
            "   kinship_article_url: https://thewildest.com/cat-health/cat-uti\n",
            "\n",
            "2. \\\"Spot lumps, limps, and lethargy early on\\\"\n",
            "   kinship_article_url: [URL not provided in the context]\n"
          ]
        }
      ]
    },
    {
      "cell_type": "code",
      "source": [
        "#Test 6 Kinship LLM version 2 - conversation between Vet cat and a doctor with Small conv and cat had Urinary Tract Infection, testing in the Email\n",
        "from gradio_client import Client\n",
        "import pandas as pd\n",
        "df = pd.read_csv('testing_csv - Sheet1.csv')\n",
        "conversation= df.loc[2, 'input']\n",
        "\n",
        "client = Client(api_url)\n",
        "result = client.predict(conversation,\n",
        "\t\t\"Email\",\t# Literal[End_Chat, Mid_Chat, Email, Web_Welcome]  in 'Vet Chat Function:' Radio component\n",
        "\t\tFalse,\t# bool  in 'JSON Output' Checkbox component\n",
        "\t\tapi_name=\"/predict\"\n",
        ")\n",
        "print(result)"
      ],
      "metadata": {
        "colab": {
          "base_uri": "https://localhost:8080/"
        },
        "id": "2yWDfBUrMevs",
        "outputId": "ede53070-6ab4-4d5c-dfe1-7382d03b4728"
      },
      "execution_count": null,
      "outputs": [
        {
          "output_type": "stream",
          "name": "stdout",
          "text": [
            "Loaded as API: https://duchaba-kinship-llm-v2.hf.space/--replicas/4v6mn/ ✔\n",
            "Email to the user:\n",
            "\n",
            "Subject: Appointment for your cat\\'s urinary tract infection\n",
            "\n",
            "Dear Cat Owner,\n",
            "\n",
            "I hope this email finds you well. I understand that your cat has been urinating outside of the litter box and seems to be in discomfort. I\\'m sorry to hear that she may be experiencing a urinary tract infection (UTI). I would be happy to help you with this issue.\n",
            "\n",
            "Based on the symptoms you described, it is important to schedule an appointment at the veterinary clinic for a thorough examination and urinalysis. This will allow us to confirm the diagnosis and provide appropriate treatment for your cat. Please let me know your preferred date and time, and I will do my best to accommodate your schedule.\n",
            "\n",
            "In the meantime, there are a few things you can do to help relieve your cat\\'s discomfort. Make sure she has access to fresh water at all times to encourage urination and help flush out the urinary tract. It is also important to keep her litter box clean and easily accessible. Avoid giving her any over-the-counter medications without veterinary guidance, as they may not be suitable for her condition.\n",
            "\n",
            "I understand that this can be a concerning situation, but rest assured that we will do everything we can to help your cat feel better. If you have any further questions or concerns, please don\\'t hesitate to reach out to me.\n",
            "\n",
            "Thank you for entrusting your cat\\'s health to us. We look forward to seeing you and your furry friend at the clinic soon.\n",
            "\n",
            "Best regards,\n",
            "\n",
            "[Your Name]\n",
            "[Your Title]\n",
            "[Your Veterinary Clinic]\n",
            "\n",
            "Top kinship_article_title along with kinship_article_url:\n",
            "\n",
            "1. UTIs Suck for Your Cat, Too | How to Treat Cat UTIs\n",
            "   kinship_article_url: https://thewildest.com/cat-health/cat-uti\n",
            "\n",
            "2. [Unknown]\n"
          ]
        }
      ]
    },
    {
      "cell_type": "code",
      "source": [
        "#Test 7 Kinship LLM version 2 - conversation between Vet cat and a doctor with Large conv and cat had Urinary Tract Infection, testing in the Web-Welcome\n",
        "from gradio_client import Client\n",
        "import pandas as pd\n",
        "df = pd.read_csv('testing_csv - Sheet1.csv')\n",
        "conversation= df.loc[3, 'input']\n",
        "\n",
        "client = Client(api_url)\n",
        "result = client.predict(conversation,\n",
        "\t\t\"Web_Welcome\",\t# Literal[End_Chat, Mid_Chat, Email, Web_Welcome]  in 'Vet Chat Function:' Radio component\n",
        "\t\tFalse,\t# bool  in 'JSON Output' Checkbox component\n",
        "\t\tapi_name=\"/predict\"\n",
        ")\n",
        "print(result)"
      ],
      "metadata": {
        "colab": {
          "base_uri": "https://localhost:8080/"
        },
        "id": "GDzDTdM3MonO",
        "outputId": "a80c2f03-4861-46f1-a491-a6a69fe3240b"
      },
      "execution_count": null,
      "outputs": [
        {
          "output_type": "stream",
          "name": "stdout",
          "text": [
            "Loaded as API: https://duchaba-kinship-llm-v2.hf.space/--replicas/4v6mn/ ✔\n",
            "1. Welcome to the veterinarian chat! I\\'m here to help you and your furry friend. It sounds like your cat may be experiencing some discomfort and a possible urinary tract infection. Let\\'s work together to get your cat the care she needs and help her feel better soon.\n",
            "\n",
            "2. The two top kinship_article_title along with the kinship_article_url are:\n",
            "- \\\"UTIs Suck for Your Cat, Too\\\" - https://thewildest.com/cat-health/cat-uti\n",
            "- [Second article title] - [Second article URL]\n"
          ]
        }
      ]
    },
    {
      "cell_type": "code",
      "source": [
        "#Test 8 Kinship LLM version 2 - conversation between Vet cat and a doctor with Small conv and cat had Urinary Tract Infection, testing in the Web-Welcome\n",
        "from gradio_client import Client\n",
        "import pandas as pd\n",
        "df = pd.read_csv('testing_csv - Sheet1.csv')\n",
        "conversation= df.loc[2, 'input']\n",
        "\n",
        "client = Client(api_url)\n",
        "result = client.predict(conversation,\n",
        "\t\t\"Web_Welcome\",\t# Literal[End_Chat, Mid_Chat, Email, Web_Welcome]  in 'Vet Chat Function:' Radio component\n",
        "\t\tFalse,\t# bool  in 'JSON Output' Checkbox component\n",
        "\t\tapi_name=\"/predict\"\n",
        ")\n",
        "print(result)"
      ],
      "metadata": {
        "colab": {
          "base_uri": "https://localhost:8080/"
        },
        "id": "Pq4bYIV1M4rN",
        "outputId": "03a3a33b-5ebc-4a50-8476-86f9181b9590"
      },
      "execution_count": null,
      "outputs": [
        {
          "output_type": "stream",
          "name": "stdout",
          "text": [
            "Loaded as API: https://duchaba-kinship-llm-v2.hf.space/--replicas/4v6mn/ ✔\n",
            "Hello there! I\\'m sorry to hear that your cat is experiencing some discomfort and urinating outside of the litter box. It\\'s possible that she may have a urinary tract infection (UTI). Let\\'s schedule an appointment at the veterinary clinic for a thorough examination and urinalysis to confirm the diagnosis. In the meantime, make sure your cat has access to fresh water at all times to encourage urination and help flush out the urinary tract. Also, keep her litter box clean and easily accessible. Avoid giving her any over-the-counter medications without veterinary guidance. Don\\'t worry, we\\'ll take good care of your furry friend! \n",
            "\n",
            "The two top kinship_article_title along with the kinship_article_url are:\n",
            "1. \\\"UTIs Suck for Your Cat, Too\\\" - [https://thewildest.com/cat-health/cat-uti]\n",
            "2. \\\"How to Treat Cat UTIs\\\" - [https://thewildest.com/cat-health/cat-uti]\n"
          ]
        }
      ]
    },
    {
      "cell_type": "code",
      "source": [
        "#Test 9 Kinship LLM version 2 - conversation between Vet Dog and a doctor with Small conv and Dog had Leptospirosis, testing in the End_Chat\n",
        "from gradio_client import Client\n",
        "import pandas as pd\n",
        "df = pd.read_csv('testing_csv - Sheet1.csv')\n",
        "conversation= df.loc[4, 'input']\n",
        "\n",
        "client = Client(api_url)\n",
        "result = client.predict(conversation,\n",
        "\t\t\"End_Chat\",\t# Literal[End_Chat, Mid_Chat, Email, Web_Welcome]  in 'Vet Chat Function:' Radio component\n",
        "\t\tFalse,\t# bool  in 'JSON Output' Checkbox component\n",
        "\t\tapi_name=\"/predict\"\n",
        ")\n",
        "print(result)"
      ],
      "metadata": {
        "colab": {
          "base_uri": "https://localhost:8080/"
        },
        "id": "Ae9aNkl2M9of",
        "outputId": "2b54af4c-bcd5-480d-a544-6f001fa7c0c2"
      },
      "execution_count": null,
      "outputs": [
        {
          "output_type": "stream",
          "name": "stdout",
          "text": [
            "Loaded as API: https://duchaba-kinship-llm-v2.hf.space/--replicas/4v6mn/ ✔\n",
            "1. Leptospirosis is a possibility for a dog showing symptoms like fever, lethargy, and loss of appetite. Exposure to contaminated water or wildlife increases the risk. It is recommended to schedule an appointment at the veterinary clinic for a thorough examination and testing to confirm the diagnosis. In the meantime, provide fresh water for the dog to drink, keep him comfortable, and monitor his temperature. Limit his contact with other animals and prevent him from roaming freely to avoid spreading the infection if it is indeed Leptospirosis.\n",
            "\n",
            "2. The top two kinship_article_title along with the kinship_article_url are:\n",
            "- Leptospirosis Outbreak in Dogs: A Bacterial Disease That\\'s Spreading\n",
            "   - kinship_article_url: https://thewildest.com/dog-health/leptospirosis\n",
            "- Yikes, There\\'s Another Leptospirosis Outbreak\n",
            "   - kinship_article_url: Not provided in the context\n"
          ]
        }
      ]
    },
    {
      "cell_type": "code",
      "source": [
        "#Test 10 Kinship LLM version 2 - conversation between Vet Dog and a doctor with Large conv and Dog had Leptospirosis, testing in the End_Chat\n",
        "from gradio_client import Client\n",
        "import pandas as pd\n",
        "df = pd.read_csv('testing_csv - Sheet1.csv')\n",
        "conversation= df.loc[5, 'input']\n",
        "\n",
        "client = Client(api_url)\n",
        "result = client.predict(conversation,\n",
        "\t\t\"End_Chat\",\t# Literal[End_Chat, Mid_Chat, Email, Web_Welcome]  in 'Vet Chat Function:' Radio component\n",
        "\t\tFalse,\t# bool  in 'JSON Output' Checkbox component\n",
        "\t\tapi_name=\"/predict\"\n",
        ")\n",
        "print(result)"
      ],
      "metadata": {
        "colab": {
          "base_uri": "https://localhost:8080/"
        },
        "id": "ByBE7bEdNxMv",
        "outputId": "6f747326-4b5e-4adb-820d-da157681af9e"
      },
      "execution_count": null,
      "outputs": [
        {
          "output_type": "stream",
          "name": "stdout",
          "text": [
            "Loaded as API: https://duchaba-kinship-llm-v2.hf.space/--replicas/4v6mn/ ✔\n",
            "1. Leptospirosis is a bacterial infection that can affect both dogs and humans. It is spread through contact with contaminated water or wildlife. Symptoms in dogs can include fever, lethargy, loss of appetite, and more. If you suspect your dog has leptospirosis, it\\'s important to schedule an appointment with a veterinarian for a thorough examination and testing to confirm the diagnosis. While waiting for the appointment, make sure your dog has access to fresh water and encourage him to drink. Keep him comfortable and monitor his temperature. Limit his contact with other animals and prevent him from roaming freely to avoid spreading the infection. Maintain his hydration with a balanced diet that is easily digestible. Practice good hygiene, such as washing your hands thoroughly after handling your dog or cleaning up after him. Leptospirosis can be transmitted from animals to humans, so it\\'s important to take precautions and consult with a doctor if you have any concerns about your own health.\n",
            "\n",
            "2. The top two kinship_article_title along with the kinship_article_url for the veterinarian chat session are:\n",
            "- Leptospirosis Outbreak in Dogs: A Bacterial Disease That\\'s Spreading\n",
            "   - kinship_article_url: https://thewildest.com/dog-health/leptospirosis\n",
            "- Diseases You Can and Can\\'t Get From Your Dog\n",
            "   - kinship_article_url: https://thewildest.com/dog-health/can-you-get-sick-from-a-dog\n"
          ]
        }
      ]
    },
    {
      "cell_type": "code",
      "source": [
        "#Test 11 Kinship LLM version 2 - conversation between Vet Dog and a doctor with Small conv and Dog had Leptospirosis, testing in the Mid_Chat\n",
        "from gradio_client import Client\n",
        "import pandas as pd\n",
        "df = pd.read_csv('testing_csv - Sheet1.csv')\n",
        "conversation= df.loc[4, 'input']\n",
        "\n",
        "client = Client(api_url)\n",
        "result = client.predict(conversation,\n",
        "\t\t\"Mid_Chat\",\t# Literal[End_Chat, Mid_Chat, Email, Web_Welcome]  in 'Vet Chat Function:' Radio component\n",
        "\t\tFalse,\t# bool  in 'JSON Output' Checkbox component\n",
        "\t\tapi_name=\"/predict\"\n",
        ")\n",
        "print(result)"
      ],
      "metadata": {
        "colab": {
          "base_uri": "https://localhost:8080/"
        },
        "id": "-CU-CD2HOjwt",
        "outputId": "1b456652-fe89-4ea4-c4a7-639b9993f83a"
      },
      "execution_count": null,
      "outputs": [
        {
          "output_type": "stream",
          "name": "stdout",
          "text": [
            "Loaded as API: https://duchaba-kinship-llm-v2.hf.space/--replicas/4v6mn/ ✔\n",
            "1. Leptospirosis Outbreak in Dogs: A Bacterial Disease That\\'s Spreading - https://thewildest.com/dog-health/leptospirosis\n",
            "2. Yikes, There\\'s Another Leptospirosis Outbreak - https://thewildest.com/dog-health/leptospirosis\n"
          ]
        }
      ]
    },
    {
      "cell_type": "code",
      "source": [
        "#Test 12 Kinship LLM version 2 - conversation between Vet Dog and a doctor with Large conv and Dog had Leptospirosis, testing in the Mid_Chat\n",
        "from gradio_client import Client\n",
        "import pandas as pd\n",
        "df = pd.read_csv('testing_csv - Sheet1.csv')\n",
        "conversation= df.loc[5, 'input']\n",
        "\n",
        "client = Client(api_url)\n",
        "result = client.predict(conversation,\n",
        "\t\t\"Mid_Chat\",\t# Literal[End_Chat, Mid_Chat, Email, Web_Welcome]  in 'Vet Chat Function:' Radio component\n",
        "\t\tFalse,\t# bool  in 'JSON Output' Checkbox component\n",
        "\t\tapi_name=\"/predict\"\n",
        ")\n",
        "print(result)"
      ],
      "metadata": {
        "colab": {
          "base_uri": "https://localhost:8080/"
        },
        "id": "ZmCjUo6IO-aj",
        "outputId": "4123ba46-6e9e-4fcd-a685-a498be3f73bc"
      },
      "execution_count": null,
      "outputs": [
        {
          "output_type": "stream",
          "name": "stdout",
          "text": [
            "Loaded as API: https://duchaba-kinship-llm-v2.hf.space/--replicas/4v6mn/ ✔\n",
            "1. Leptospirosis Outbreak in Dogs: A Bacterial Disease That\\'s Spreading - https://thewildest.com/dog-health/leptospirosis\n",
            "2. Diseases You Can and Can\\'t Get From Your Dog - https://thewildest.com/dog-health/can-you-get-sick-from-a-dog\n"
          ]
        }
      ]
    },
    {
      "cell_type": "code",
      "source": [
        "#Test 13 Kinship LLM version 2 - conversation between Vet cat and a doctor with Large conv and cat had Giardiasis, testing in the Mid_Chat\n",
        "from gradio_client import Client\n",
        "import pandas as pd\n",
        "df = pd.read_csv('testing_csv - Sheet1.csv')\n",
        "conversation= df.loc[9, 'input']\n",
        "\n",
        "client = Client(api_url)\n",
        "result = client.predict(conversation,\n",
        "\t\t\"Mid_Chat\",\t# Literal[End_Chat, Mid_Chat, Email, Web_Welcome]  in 'Vet Chat Function:' Radio component\n",
        "\t\tFalse,\t# bool  in 'JSON Output' Checkbox component\n",
        "\t\tapi_name=\"/predict\"\n",
        ")\n",
        "print(result)"
      ],
      "metadata": {
        "colab": {
          "base_uri": "https://localhost:8080/"
        },
        "id": "NV18fHS2sF1G",
        "outputId": "c27d1bf7-fc8f-46f0-bbf4-493dbcabbc6e"
      },
      "execution_count": null,
      "outputs": [
        {
          "output_type": "stream",
          "name": "stdout",
          "text": [
            "Loaded as API: https://duchaba-kinship-llm-v2.hf.space/--replicas/4v6mn/ ✔\n",
            "1. Giardia in Dogs: Symptoms, Causes and Treatment - https://thewildest.com/dog-health/giardia-in-dogs\n",
            "2. Cryptosporidiosis and giardiasis in dogs and cats: Veterinary and public health importance - [URL not provided]\n"
          ]
        }
      ]
    },
    {
      "cell_type": "code",
      "source": [
        "#Test 14 Kinship LLM version 2 - conversation between Vet cat and a doctor with Small conv and cat had Roundworms, testing in the End_Chat\n",
        "from gradio_client import Client\n",
        "import pandas as pd\n",
        "df = pd.read_csv('testing_csv - Sheet1.csv')\n",
        "conversation= df.loc[5, 'input']\n",
        "\n",
        "client = Client(api_url)\n",
        "result = client.predict(conversation,\n",
        "\t\t\"Email\",\t# Literal[End_Chat, Mid_Chat, Email, Web_Welcome]  in 'Vet Chat Function:' Radio component\n",
        "\t\tFalse,\t# bool  in 'JSON Output' Checkbox component\n",
        "\t\tapi_name=\"/predict\"\n",
        ")\n",
        "print(result)"
      ],
      "metadata": {
        "colab": {
          "base_uri": "https://localhost:8080/",
          "height": 417
        },
        "id": "9TTOW6pzOTpL",
        "outputId": "300ea919-c3d6-4f08-ea4d-0de89a64a0d4"
      },
      "execution_count": null,
      "outputs": [
        {
          "output_type": "stream",
          "name": "stdout",
          "text": [
            "Loaded as API: https://duchaba-kinship-llm-v2.hf.space/--replicas/4v6mn/ ✔\n"
          ]
        },
        {
          "output_type": "error",
          "ename": "KeyError",
          "evalue": "ignored",
          "traceback": [
            "\u001b[0;31m---------------------------------------------------------------------------\u001b[0m",
            "\u001b[0;31mKeyError\u001b[0m                                  Traceback (most recent call last)",
            "\u001b[0;32m<ipython-input-18-a96ec6ca4ab7>\u001b[0m in \u001b[0;36m<cell line: 8>\u001b[0;34m()\u001b[0m\n\u001b[1;32m      6\u001b[0m \u001b[0;34m\u001b[0m\u001b[0m\n\u001b[1;32m      7\u001b[0m \u001b[0mclient\u001b[0m \u001b[0;34m=\u001b[0m \u001b[0mClient\u001b[0m\u001b[0;34m(\u001b[0m\u001b[0mapi_url\u001b[0m\u001b[0;34m)\u001b[0m\u001b[0;34m\u001b[0m\u001b[0;34m\u001b[0m\u001b[0m\n\u001b[0;32m----> 8\u001b[0;31m result = client.predict(conversation,\n\u001b[0m\u001b[1;32m      9\u001b[0m                 \u001b[0;34m\"Email\"\u001b[0m\u001b[0;34m,\u001b[0m        \u001b[0;31m# Literal[End_Chat, Mid_Chat, Email, Web_Welcome]  in 'Vet Chat Function:' Radio component\u001b[0m\u001b[0;34m\u001b[0m\u001b[0;34m\u001b[0m\u001b[0m\n\u001b[1;32m     10\u001b[0m                 \u001b[0;32mFalse\u001b[0m\u001b[0;34m,\u001b[0m  \u001b[0;31m# bool  in 'JSON Output' Checkbox component\u001b[0m\u001b[0;34m\u001b[0m\u001b[0;34m\u001b[0m\u001b[0m\n",
            "\u001b[0;32m/usr/local/lib/python3.10/dist-packages/gradio_client/client.py\u001b[0m in \u001b[0;36mpredict\u001b[0;34m(self, api_name, fn_index, *args)\u001b[0m\n\u001b[1;32m    303\u001b[0m                 \u001b[0;34m\"Cannot call predict on this function as it may run forever. Use submit instead.\"\u001b[0m\u001b[0;34m\u001b[0m\u001b[0;34m\u001b[0m\u001b[0m\n\u001b[1;32m    304\u001b[0m             )\n\u001b[0;32m--> 305\u001b[0;31m         \u001b[0;32mreturn\u001b[0m \u001b[0mself\u001b[0m\u001b[0;34m.\u001b[0m\u001b[0msubmit\u001b[0m\u001b[0;34m(\u001b[0m\u001b[0;34m*\u001b[0m\u001b[0margs\u001b[0m\u001b[0;34m,\u001b[0m \u001b[0mapi_name\u001b[0m\u001b[0;34m=\u001b[0m\u001b[0mapi_name\u001b[0m\u001b[0;34m,\u001b[0m \u001b[0mfn_index\u001b[0m\u001b[0;34m=\u001b[0m\u001b[0mfn_index\u001b[0m\u001b[0;34m)\u001b[0m\u001b[0;34m.\u001b[0m\u001b[0mresult\u001b[0m\u001b[0;34m(\u001b[0m\u001b[0;34m)\u001b[0m\u001b[0;34m\u001b[0m\u001b[0;34m\u001b[0m\u001b[0m\n\u001b[0m\u001b[1;32m    306\u001b[0m \u001b[0;34m\u001b[0m\u001b[0m\n\u001b[1;32m    307\u001b[0m     \u001b[0;32mdef\u001b[0m \u001b[0mnew_helper\u001b[0m\u001b[0;34m(\u001b[0m\u001b[0mself\u001b[0m\u001b[0;34m,\u001b[0m \u001b[0mfn_index\u001b[0m\u001b[0;34m:\u001b[0m \u001b[0mint\u001b[0m\u001b[0;34m)\u001b[0m \u001b[0;34m->\u001b[0m \u001b[0mCommunicator\u001b[0m\u001b[0;34m:\u001b[0m\u001b[0;34m\u001b[0m\u001b[0;34m\u001b[0m\u001b[0m\n",
            "\u001b[0;32m/usr/local/lib/python3.10/dist-packages/gradio_client/client.py\u001b[0m in \u001b[0;36mresult\u001b[0;34m(self, timeout)\u001b[0m\n\u001b[1;32m   1454\u001b[0m             \u001b[0;34m>>\u001b[0m \u001b[0;36m9\u001b[0m\u001b[0;34m\u001b[0m\u001b[0;34m\u001b[0m\u001b[0m\n\u001b[1;32m   1455\u001b[0m         \"\"\"\n\u001b[0;32m-> 1456\u001b[0;31m         \u001b[0;32mreturn\u001b[0m \u001b[0msuper\u001b[0m\u001b[0;34m(\u001b[0m\u001b[0;34m)\u001b[0m\u001b[0;34m.\u001b[0m\u001b[0mresult\u001b[0m\u001b[0;34m(\u001b[0m\u001b[0mtimeout\u001b[0m\u001b[0;34m=\u001b[0m\u001b[0mtimeout\u001b[0m\u001b[0;34m)\u001b[0m\u001b[0;34m\u001b[0m\u001b[0;34m\u001b[0m\u001b[0m\n\u001b[0m\u001b[1;32m   1457\u001b[0m \u001b[0;34m\u001b[0m\u001b[0m\n\u001b[1;32m   1458\u001b[0m     \u001b[0;32mdef\u001b[0m \u001b[0moutputs\u001b[0m\u001b[0;34m(\u001b[0m\u001b[0mself\u001b[0m\u001b[0;34m)\u001b[0m \u001b[0;34m->\u001b[0m \u001b[0mlist\u001b[0m\u001b[0;34m[\u001b[0m\u001b[0mtuple\u001b[0m \u001b[0;34m|\u001b[0m \u001b[0mAny\u001b[0m\u001b[0;34m]\u001b[0m\u001b[0;34m:\u001b[0m\u001b[0;34m\u001b[0m\u001b[0;34m\u001b[0m\u001b[0m\n",
            "\u001b[0;32m/usr/lib/python3.10/concurrent/futures/_base.py\u001b[0m in \u001b[0;36mresult\u001b[0;34m(self, timeout)\u001b[0m\n\u001b[1;32m    456\u001b[0m                     \u001b[0;32mraise\u001b[0m \u001b[0mCancelledError\u001b[0m\u001b[0;34m(\u001b[0m\u001b[0;34m)\u001b[0m\u001b[0;34m\u001b[0m\u001b[0;34m\u001b[0m\u001b[0m\n\u001b[1;32m    457\u001b[0m                 \u001b[0;32melif\u001b[0m \u001b[0mself\u001b[0m\u001b[0;34m.\u001b[0m\u001b[0m_state\u001b[0m \u001b[0;34m==\u001b[0m \u001b[0mFINISHED\u001b[0m\u001b[0;34m:\u001b[0m\u001b[0;34m\u001b[0m\u001b[0;34m\u001b[0m\u001b[0m\n\u001b[0;32m--> 458\u001b[0;31m                     \u001b[0;32mreturn\u001b[0m \u001b[0mself\u001b[0m\u001b[0;34m.\u001b[0m\u001b[0m__get_result\u001b[0m\u001b[0;34m(\u001b[0m\u001b[0;34m)\u001b[0m\u001b[0;34m\u001b[0m\u001b[0;34m\u001b[0m\u001b[0m\n\u001b[0m\u001b[1;32m    459\u001b[0m                 \u001b[0;32melse\u001b[0m\u001b[0;34m:\u001b[0m\u001b[0;34m\u001b[0m\u001b[0;34m\u001b[0m\u001b[0m\n\u001b[1;32m    460\u001b[0m                     \u001b[0;32mraise\u001b[0m \u001b[0mTimeoutError\u001b[0m\u001b[0;34m(\u001b[0m\u001b[0;34m)\u001b[0m\u001b[0;34m\u001b[0m\u001b[0;34m\u001b[0m\u001b[0m\n",
            "\u001b[0;32m/usr/lib/python3.10/concurrent/futures/_base.py\u001b[0m in \u001b[0;36m__get_result\u001b[0;34m(self)\u001b[0m\n\u001b[1;32m    401\u001b[0m         \u001b[0;32mif\u001b[0m \u001b[0mself\u001b[0m\u001b[0;34m.\u001b[0m\u001b[0m_exception\u001b[0m\u001b[0;34m:\u001b[0m\u001b[0;34m\u001b[0m\u001b[0;34m\u001b[0m\u001b[0m\n\u001b[1;32m    402\u001b[0m             \u001b[0;32mtry\u001b[0m\u001b[0;34m:\u001b[0m\u001b[0;34m\u001b[0m\u001b[0;34m\u001b[0m\u001b[0m\n\u001b[0;32m--> 403\u001b[0;31m                 \u001b[0;32mraise\u001b[0m \u001b[0mself\u001b[0m\u001b[0;34m.\u001b[0m\u001b[0m_exception\u001b[0m\u001b[0;34m\u001b[0m\u001b[0;34m\u001b[0m\u001b[0m\n\u001b[0m\u001b[1;32m    404\u001b[0m             \u001b[0;32mfinally\u001b[0m\u001b[0;34m:\u001b[0m\u001b[0;34m\u001b[0m\u001b[0;34m\u001b[0m\u001b[0m\n\u001b[1;32m    405\u001b[0m                 \u001b[0;31m# Break a reference cycle with the exception in self._exception\u001b[0m\u001b[0;34m\u001b[0m\u001b[0;34m\u001b[0m\u001b[0m\n",
            "\u001b[0;32m/usr/lib/python3.10/concurrent/futures/thread.py\u001b[0m in \u001b[0;36mrun\u001b[0;34m(self)\u001b[0m\n\u001b[1;32m     56\u001b[0m \u001b[0;34m\u001b[0m\u001b[0m\n\u001b[1;32m     57\u001b[0m         \u001b[0;32mtry\u001b[0m\u001b[0;34m:\u001b[0m\u001b[0;34m\u001b[0m\u001b[0;34m\u001b[0m\u001b[0m\n\u001b[0;32m---> 58\u001b[0;31m             \u001b[0mresult\u001b[0m \u001b[0;34m=\u001b[0m \u001b[0mself\u001b[0m\u001b[0;34m.\u001b[0m\u001b[0mfn\u001b[0m\u001b[0;34m(\u001b[0m\u001b[0;34m*\u001b[0m\u001b[0mself\u001b[0m\u001b[0;34m.\u001b[0m\u001b[0margs\u001b[0m\u001b[0;34m,\u001b[0m \u001b[0;34m**\u001b[0m\u001b[0mself\u001b[0m\u001b[0;34m.\u001b[0m\u001b[0mkwargs\u001b[0m\u001b[0;34m)\u001b[0m\u001b[0;34m\u001b[0m\u001b[0;34m\u001b[0m\u001b[0m\n\u001b[0m\u001b[1;32m     59\u001b[0m         \u001b[0;32mexcept\u001b[0m \u001b[0mBaseException\u001b[0m \u001b[0;32mas\u001b[0m \u001b[0mexc\u001b[0m\u001b[0;34m:\u001b[0m\u001b[0;34m\u001b[0m\u001b[0;34m\u001b[0m\u001b[0m\n\u001b[1;32m     60\u001b[0m             \u001b[0mself\u001b[0m\u001b[0;34m.\u001b[0m\u001b[0mfuture\u001b[0m\u001b[0;34m.\u001b[0m\u001b[0mset_exception\u001b[0m\u001b[0;34m(\u001b[0m\u001b[0mexc\u001b[0m\u001b[0;34m)\u001b[0m\u001b[0;34m\u001b[0m\u001b[0;34m\u001b[0m\u001b[0m\n",
            "\u001b[0;32m/usr/local/lib/python3.10/dist-packages/gradio_client/client.py\u001b[0m in \u001b[0;36m_inner\u001b[0;34m(*data)\u001b[0m\n\u001b[1;32m    867\u001b[0m             \u001b[0;32mif\u001b[0m \u001b[0mself\u001b[0m\u001b[0;34m.\u001b[0m\u001b[0mclient\u001b[0m\u001b[0;34m.\u001b[0m\u001b[0mserialize\u001b[0m\u001b[0;34m:\u001b[0m\u001b[0;34m\u001b[0m\u001b[0;34m\u001b[0m\u001b[0m\n\u001b[1;32m    868\u001b[0m                 \u001b[0mdata\u001b[0m \u001b[0;34m=\u001b[0m \u001b[0mself\u001b[0m\u001b[0;34m.\u001b[0m\u001b[0mserialize\u001b[0m\u001b[0;34m(\u001b[0m\u001b[0;34m*\u001b[0m\u001b[0mdata\u001b[0m\u001b[0;34m)\u001b[0m\u001b[0;34m\u001b[0m\u001b[0;34m\u001b[0m\u001b[0m\n\u001b[0;32m--> 869\u001b[0;31m             \u001b[0mpredictions\u001b[0m \u001b[0;34m=\u001b[0m \u001b[0m_predict\u001b[0m\u001b[0;34m(\u001b[0m\u001b[0;34m*\u001b[0m\u001b[0mdata\u001b[0m\u001b[0;34m)\u001b[0m\u001b[0;34m\u001b[0m\u001b[0;34m\u001b[0m\u001b[0m\n\u001b[0m\u001b[1;32m    870\u001b[0m             \u001b[0mpredictions\u001b[0m \u001b[0;34m=\u001b[0m \u001b[0mself\u001b[0m\u001b[0;34m.\u001b[0m\u001b[0mprocess_predictions\u001b[0m\u001b[0;34m(\u001b[0m\u001b[0;34m*\u001b[0m\u001b[0mpredictions\u001b[0m\u001b[0;34m)\u001b[0m\u001b[0;34m\u001b[0m\u001b[0;34m\u001b[0m\u001b[0m\n\u001b[1;32m    871\u001b[0m             \u001b[0;31m# Append final output only if not already present\u001b[0m\u001b[0;34m\u001b[0m\u001b[0;34m\u001b[0m\u001b[0m\n",
            "\u001b[0;32m/usr/local/lib/python3.10/dist-packages/gradio_client/client.py\u001b[0m in \u001b[0;36m_predict\u001b[0;34m(*data)\u001b[0m\n\u001b[1;32m    892\u001b[0m             }\n\u001b[1;32m    893\u001b[0m \u001b[0;34m\u001b[0m\u001b[0m\n\u001b[0;32m--> 894\u001b[0;31m             \u001b[0mresult\u001b[0m \u001b[0;34m=\u001b[0m \u001b[0mutils\u001b[0m\u001b[0;34m.\u001b[0m\u001b[0msynchronize_async\u001b[0m\u001b[0;34m(\u001b[0m\u001b[0mself\u001b[0m\u001b[0;34m.\u001b[0m\u001b[0m_sse_fn\u001b[0m\u001b[0;34m,\u001b[0m \u001b[0mdata\u001b[0m\u001b[0;34m,\u001b[0m \u001b[0mhash_data\u001b[0m\u001b[0;34m,\u001b[0m \u001b[0mhelper\u001b[0m\u001b[0;34m)\u001b[0m\u001b[0;34m\u001b[0m\u001b[0;34m\u001b[0m\u001b[0m\n\u001b[0m\u001b[1;32m    895\u001b[0m             \u001b[0;32mif\u001b[0m \u001b[0;34m\"error\"\u001b[0m \u001b[0;32min\u001b[0m \u001b[0mresult\u001b[0m\u001b[0;34m:\u001b[0m\u001b[0;34m\u001b[0m\u001b[0;34m\u001b[0m\u001b[0m\n\u001b[1;32m    896\u001b[0m                 \u001b[0;32mraise\u001b[0m \u001b[0mValueError\u001b[0m\u001b[0;34m(\u001b[0m\u001b[0mresult\u001b[0m\u001b[0;34m[\u001b[0m\u001b[0;34m\"error\"\u001b[0m\u001b[0;34m]\u001b[0m\u001b[0;34m)\u001b[0m\u001b[0;34m\u001b[0m\u001b[0;34m\u001b[0m\u001b[0m\n",
            "\u001b[0;32m/usr/local/lib/python3.10/dist-packages/gradio_client/utils.py\u001b[0m in \u001b[0;36msynchronize_async\u001b[0;34m(func, *args, **kwargs)\u001b[0m\n\u001b[1;32m    662\u001b[0m         \u001b[0;34m**\u001b[0m\u001b[0mkwargs\u001b[0m\u001b[0;34m:\u001b[0m\u001b[0;34m\u001b[0m\u001b[0;34m\u001b[0m\u001b[0m\n\u001b[1;32m    663\u001b[0m     \"\"\"\n\u001b[0;32m--> 664\u001b[0;31m     \u001b[0;32mreturn\u001b[0m \u001b[0mfsspec\u001b[0m\u001b[0;34m.\u001b[0m\u001b[0masyn\u001b[0m\u001b[0;34m.\u001b[0m\u001b[0msync\u001b[0m\u001b[0;34m(\u001b[0m\u001b[0mfsspec\u001b[0m\u001b[0;34m.\u001b[0m\u001b[0masyn\u001b[0m\u001b[0;34m.\u001b[0m\u001b[0mget_loop\u001b[0m\u001b[0;34m(\u001b[0m\u001b[0;34m)\u001b[0m\u001b[0;34m,\u001b[0m \u001b[0mfunc\u001b[0m\u001b[0;34m,\u001b[0m \u001b[0;34m*\u001b[0m\u001b[0margs\u001b[0m\u001b[0;34m,\u001b[0m \u001b[0;34m**\u001b[0m\u001b[0mkwargs\u001b[0m\u001b[0;34m)\u001b[0m  \u001b[0;31m# type: ignore\u001b[0m\u001b[0;34m\u001b[0m\u001b[0;34m\u001b[0m\u001b[0m\n\u001b[0m\u001b[1;32m    665\u001b[0m \u001b[0;34m\u001b[0m\u001b[0m\n\u001b[1;32m    666\u001b[0m \u001b[0;34m\u001b[0m\u001b[0m\n",
            "\u001b[0;32m/usr/local/lib/python3.10/dist-packages/fsspec/asyn.py\u001b[0m in \u001b[0;36msync\u001b[0;34m(loop, func, timeout, *args, **kwargs)\u001b[0m\n\u001b[1;32m    104\u001b[0m         \u001b[0;32mraise\u001b[0m \u001b[0mFSTimeoutError\u001b[0m \u001b[0;32mfrom\u001b[0m \u001b[0mreturn_result\u001b[0m\u001b[0;34m\u001b[0m\u001b[0;34m\u001b[0m\u001b[0m\n\u001b[1;32m    105\u001b[0m     \u001b[0;32melif\u001b[0m \u001b[0misinstance\u001b[0m\u001b[0;34m(\u001b[0m\u001b[0mreturn_result\u001b[0m\u001b[0;34m,\u001b[0m \u001b[0mBaseException\u001b[0m\u001b[0;34m)\u001b[0m\u001b[0;34m:\u001b[0m\u001b[0;34m\u001b[0m\u001b[0;34m\u001b[0m\u001b[0m\n\u001b[0;32m--> 106\u001b[0;31m         \u001b[0;32mraise\u001b[0m \u001b[0mreturn_result\u001b[0m\u001b[0;34m\u001b[0m\u001b[0;34m\u001b[0m\u001b[0m\n\u001b[0m\u001b[1;32m    107\u001b[0m     \u001b[0;32melse\u001b[0m\u001b[0;34m:\u001b[0m\u001b[0;34m\u001b[0m\u001b[0;34m\u001b[0m\u001b[0m\n\u001b[1;32m    108\u001b[0m         \u001b[0;32mreturn\u001b[0m \u001b[0mreturn_result\u001b[0m\u001b[0;34m\u001b[0m\u001b[0;34m\u001b[0m\u001b[0m\n",
            "\u001b[0;32m/usr/local/lib/python3.10/dist-packages/fsspec/asyn.py\u001b[0m in \u001b[0;36m_runner\u001b[0;34m(event, coro, result, timeout)\u001b[0m\n\u001b[1;32m     59\u001b[0m         \u001b[0mcoro\u001b[0m \u001b[0;34m=\u001b[0m \u001b[0masyncio\u001b[0m\u001b[0;34m.\u001b[0m\u001b[0mwait_for\u001b[0m\u001b[0;34m(\u001b[0m\u001b[0mcoro\u001b[0m\u001b[0;34m,\u001b[0m \u001b[0mtimeout\u001b[0m\u001b[0;34m=\u001b[0m\u001b[0mtimeout\u001b[0m\u001b[0;34m)\u001b[0m\u001b[0;34m\u001b[0m\u001b[0;34m\u001b[0m\u001b[0m\n\u001b[1;32m     60\u001b[0m     \u001b[0;32mtry\u001b[0m\u001b[0;34m:\u001b[0m\u001b[0;34m\u001b[0m\u001b[0;34m\u001b[0m\u001b[0m\n\u001b[0;32m---> 61\u001b[0;31m         \u001b[0mresult\u001b[0m\u001b[0;34m[\u001b[0m\u001b[0;36m0\u001b[0m\u001b[0;34m]\u001b[0m \u001b[0;34m=\u001b[0m \u001b[0;32mawait\u001b[0m \u001b[0mcoro\u001b[0m\u001b[0;34m\u001b[0m\u001b[0;34m\u001b[0m\u001b[0m\n\u001b[0m\u001b[1;32m     62\u001b[0m     \u001b[0;32mexcept\u001b[0m \u001b[0mException\u001b[0m \u001b[0;32mas\u001b[0m \u001b[0mex\u001b[0m\u001b[0;34m:\u001b[0m\u001b[0;34m\u001b[0m\u001b[0;34m\u001b[0m\u001b[0m\n\u001b[1;32m     63\u001b[0m         \u001b[0mresult\u001b[0m\u001b[0;34m[\u001b[0m\u001b[0;36m0\u001b[0m\u001b[0;34m]\u001b[0m \u001b[0;34m=\u001b[0m \u001b[0mex\u001b[0m\u001b[0;34m\u001b[0m\u001b[0;34m\u001b[0m\u001b[0m\n",
            "\u001b[0;32m/usr/local/lib/python3.10/dist-packages/gradio_client/client.py\u001b[0m in \u001b[0;36m_sse_fn\u001b[0;34m(self, data, hash_data, helper)\u001b[0m\n\u001b[1;32m   1073\u001b[0m     \u001b[0;32masync\u001b[0m \u001b[0;32mdef\u001b[0m \u001b[0m_sse_fn\u001b[0m\u001b[0;34m(\u001b[0m\u001b[0mself\u001b[0m\u001b[0;34m,\u001b[0m \u001b[0mdata\u001b[0m\u001b[0;34m:\u001b[0m \u001b[0mdict\u001b[0m\u001b[0;34m,\u001b[0m \u001b[0mhash_data\u001b[0m\u001b[0;34m:\u001b[0m \u001b[0mdict\u001b[0m\u001b[0;34m,\u001b[0m \u001b[0mhelper\u001b[0m\u001b[0;34m:\u001b[0m \u001b[0mCommunicator\u001b[0m\u001b[0;34m)\u001b[0m\u001b[0;34m:\u001b[0m\u001b[0;34m\u001b[0m\u001b[0;34m\u001b[0m\u001b[0m\n\u001b[1;32m   1074\u001b[0m         \u001b[0;32masync\u001b[0m \u001b[0;32mwith\u001b[0m \u001b[0mhttpx\u001b[0m\u001b[0;34m.\u001b[0m\u001b[0mAsyncClient\u001b[0m\u001b[0;34m(\u001b[0m\u001b[0mtimeout\u001b[0m\u001b[0;34m=\u001b[0m\u001b[0mhttpx\u001b[0m\u001b[0;34m.\u001b[0m\u001b[0mTimeout\u001b[0m\u001b[0;34m(\u001b[0m\u001b[0mtimeout\u001b[0m\u001b[0;34m=\u001b[0m\u001b[0;32mNone\u001b[0m\u001b[0;34m)\u001b[0m\u001b[0;34m)\u001b[0m \u001b[0;32mas\u001b[0m \u001b[0mclient\u001b[0m\u001b[0;34m:\u001b[0m\u001b[0;34m\u001b[0m\u001b[0;34m\u001b[0m\u001b[0m\n\u001b[0;32m-> 1075\u001b[0;31m             return await utils.get_pred_from_sse(\n\u001b[0m\u001b[1;32m   1076\u001b[0m                 \u001b[0mclient\u001b[0m\u001b[0;34m,\u001b[0m\u001b[0;34m\u001b[0m\u001b[0;34m\u001b[0m\u001b[0m\n\u001b[1;32m   1077\u001b[0m                 \u001b[0mdata\u001b[0m\u001b[0;34m,\u001b[0m\u001b[0;34m\u001b[0m\u001b[0;34m\u001b[0m\u001b[0m\n",
            "\u001b[0;32m/usr/local/lib/python3.10/dist-packages/gradio_client/utils.py\u001b[0m in \u001b[0;36mget_pred_from_sse\u001b[0;34m(client, data, hash_data, helper, sse_url, sse_data_url, cookies)\u001b[0m\n\u001b[1;32m    339\u001b[0m     \u001b[0;32massert\u001b[0m \u001b[0mlen\u001b[0m\u001b[0;34m(\u001b[0m\u001b[0mdone\u001b[0m\u001b[0;34m)\u001b[0m \u001b[0;34m==\u001b[0m \u001b[0;36m1\u001b[0m\u001b[0;34m\u001b[0m\u001b[0;34m\u001b[0m\u001b[0m\n\u001b[1;32m    340\u001b[0m     \u001b[0;32mfor\u001b[0m \u001b[0mtask\u001b[0m \u001b[0;32min\u001b[0m \u001b[0mdone\u001b[0m\u001b[0;34m:\u001b[0m\u001b[0;34m\u001b[0m\u001b[0;34m\u001b[0m\u001b[0m\n\u001b[0;32m--> 341\u001b[0;31m         \u001b[0;32mreturn\u001b[0m \u001b[0mtask\u001b[0m\u001b[0;34m.\u001b[0m\u001b[0mresult\u001b[0m\u001b[0;34m(\u001b[0m\u001b[0;34m)\u001b[0m\u001b[0;34m\u001b[0m\u001b[0;34m\u001b[0m\u001b[0m\n\u001b[0m\u001b[1;32m    342\u001b[0m \u001b[0;34m\u001b[0m\u001b[0m\n\u001b[1;32m    343\u001b[0m \u001b[0;34m\u001b[0m\u001b[0m\n",
            "\u001b[0;32m/usr/local/lib/python3.10/dist-packages/gradio_client/utils.py\u001b[0m in \u001b[0;36mstream_sse\u001b[0;34m(client, data, hash_data, helper, sse_url, sse_data_url, cookies)\u001b[0m\n\u001b[1;32m    375\u001b[0m                         \u001b[0mhas_progress\u001b[0m \u001b[0;34m=\u001b[0m \u001b[0;34m\"progress_data\"\u001b[0m \u001b[0;32min\u001b[0m \u001b[0mresp\u001b[0m\u001b[0;34m\u001b[0m\u001b[0;34m\u001b[0m\u001b[0m\n\u001b[1;32m    376\u001b[0m                         status_update = StatusUpdate(\n\u001b[0;32m--> 377\u001b[0;31m                             \u001b[0mcode\u001b[0m\u001b[0;34m=\u001b[0m\u001b[0mStatus\u001b[0m\u001b[0;34m.\u001b[0m\u001b[0mmsg_to_status\u001b[0m\u001b[0;34m(\u001b[0m\u001b[0mresp\u001b[0m\u001b[0;34m[\u001b[0m\u001b[0;34m\"msg\"\u001b[0m\u001b[0;34m]\u001b[0m\u001b[0;34m)\u001b[0m\u001b[0;34m,\u001b[0m\u001b[0;34m\u001b[0m\u001b[0;34m\u001b[0m\u001b[0m\n\u001b[0m\u001b[1;32m    378\u001b[0m                             \u001b[0mqueue_size\u001b[0m\u001b[0;34m=\u001b[0m\u001b[0mresp\u001b[0m\u001b[0;34m.\u001b[0m\u001b[0mget\u001b[0m\u001b[0;34m(\u001b[0m\u001b[0;34m\"queue_size\"\u001b[0m\u001b[0;34m)\u001b[0m\u001b[0;34m,\u001b[0m\u001b[0;34m\u001b[0m\u001b[0;34m\u001b[0m\u001b[0m\n\u001b[1;32m    379\u001b[0m                             \u001b[0mrank\u001b[0m\u001b[0;34m=\u001b[0m\u001b[0mresp\u001b[0m\u001b[0;34m.\u001b[0m\u001b[0mget\u001b[0m\u001b[0;34m(\u001b[0m\u001b[0;34m\"rank\"\u001b[0m\u001b[0;34m,\u001b[0m \u001b[0;32mNone\u001b[0m\u001b[0;34m)\u001b[0m\u001b[0;34m,\u001b[0m\u001b[0;34m\u001b[0m\u001b[0;34m\u001b[0m\u001b[0m\n",
            "\u001b[0;32m/usr/local/lib/python3.10/dist-packages/gradio_client/utils.py\u001b[0m in \u001b[0;36mmsg_to_status\u001b[0;34m(msg)\u001b[0m\n\u001b[1;32m    126\u001b[0m     \u001b[0;32mdef\u001b[0m \u001b[0mmsg_to_status\u001b[0m\u001b[0;34m(\u001b[0m\u001b[0mmsg\u001b[0m\u001b[0;34m:\u001b[0m \u001b[0mstr\u001b[0m\u001b[0;34m)\u001b[0m \u001b[0;34m->\u001b[0m \u001b[0mStatus\u001b[0m\u001b[0;34m:\u001b[0m\u001b[0;34m\u001b[0m\u001b[0;34m\u001b[0m\u001b[0m\n\u001b[1;32m    127\u001b[0m         \u001b[0;34m\"\"\"Map the raw message from the backend to the status code presented to users.\"\"\"\u001b[0m\u001b[0;34m\u001b[0m\u001b[0;34m\u001b[0m\u001b[0m\n\u001b[0;32m--> 128\u001b[0;31m         return {\n\u001b[0m\u001b[1;32m    129\u001b[0m             \u001b[0;34m\"send_hash\"\u001b[0m\u001b[0;34m:\u001b[0m \u001b[0mStatus\u001b[0m\u001b[0;34m.\u001b[0m\u001b[0mJOINING_QUEUE\u001b[0m\u001b[0;34m,\u001b[0m\u001b[0;34m\u001b[0m\u001b[0;34m\u001b[0m\u001b[0m\n\u001b[1;32m    130\u001b[0m             \u001b[0;34m\"queue_full\"\u001b[0m\u001b[0;34m:\u001b[0m \u001b[0mStatus\u001b[0m\u001b[0;34m.\u001b[0m\u001b[0mQUEUE_FULL\u001b[0m\u001b[0;34m,\u001b[0m\u001b[0;34m\u001b[0m\u001b[0;34m\u001b[0m\u001b[0m\n",
            "\u001b[0;31mKeyError\u001b[0m: 'heartbeat'"
          ]
        }
      ]
    }
  ]
}