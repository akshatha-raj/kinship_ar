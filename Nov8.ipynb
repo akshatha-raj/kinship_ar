{
  "nbformat": 4,
  "nbformat_minor": 0,
  "metadata": {
    "colab": {
      "provenance": [],
      "authorship_tag": "ABX9TyMTrRVnKOROkJMgibMwATjF",
      "include_colab_link": true
    },
    "kernelspec": {
      "name": "python3",
      "display_name": "Python 3"
    },
    "language_info": {
      "name": "python"
    }
  },
  "cells": [
    {
      "cell_type": "markdown",
      "metadata": {
        "id": "view-in-github",
        "colab_type": "text"
      },
      "source": [
        "<a href=\"https://colab.research.google.com/github/akshatha-raj/kinship_ar/blob/main/Nov8.ipynb\" target=\"_parent\"><img src=\"https://colab.research.google.com/assets/colab-badge.svg\" alt=\"Open In Colab\"/></a>"
      ]
    },
    {
      "cell_type": "code",
      "execution_count": null,
      "metadata": {
        "id": "29uTT5GOOJYr"
      },
      "outputs": [],
      "source": [
        "!pip install gradio_client"
      ]
    },
    {
      "cell_type": "code",
      "source": [
        "api_url = \"https://duchaba-kinship-llm-v2.hf.space/--replicas/htppr/\"\n",
        "\n",
        "# You can use the 'api_url' variable in the remaining script\n",
        "print(\"The URL is:\", api_url)"
      ],
      "metadata": {
        "colab": {
          "base_uri": "https://localhost:8080/"
        },
        "id": "COnx_7sQObHl",
        "outputId": "b469e574-c1f5-4138-947f-ce0ba49ba9d8"
      },
      "execution_count": 4,
      "outputs": [
        {
          "output_type": "stream",
          "name": "stdout",
          "text": [
            "The URL is: https://duchaba-kinship-llm-v2.hf.space/--replicas/htppr/\n"
          ]
        }
      ]
    },
    {
      "cell_type": "code",
      "source": [
        "#Test 1 Kinship LLM version 2 - Hello in the End_chat\n",
        "from gradio_client import Client\n",
        "\n",
        "client = Client(api_url)\n",
        "result = client.predict(\n",
        "\t\t\"Hello!!\",\t# str  in 'Vet Chat Session:' Textbox component\n",
        "\t\t\"End_Chat\",\t# Literal[End_Chat, Mid_Chat, Email, Web_Welcome]  in 'Vet Chat Function:' Radio component\n",
        "\t\tFalse,\t# bool  in 'JSON Output' Checkbox component\n",
        "\t\tapi_name=\"/predict\"\n",
        ")\n",
        "print(result)"
      ],
      "metadata": {
        "colab": {
          "base_uri": "https://localhost:8080/"
        },
        "id": "Yi3B6jLiejtB",
        "outputId": "7c7cd539-3222-44c4-bfe1-fe4bf2a69b60"
      },
      "execution_count": null,
      "outputs": [
        {
          "output_type": "stream",
          "name": "stdout",
          "text": [
            "Loaded as API: https://duchaba-kinship-llm-v2.hf.space/--replicas/sq8dq/ ✔\n",
            "1. Summary: In this veterinarian chat session, the user is seeking advice on how to make vet visits less scary for their pets. The session includes tips and insights from two authors, Karen B. London and Avery Felman, who have written articles on the topic. Karen B. London is an Adjunct Professor in the Department of Biological Sciences at Northern Arizona University and has authored several books on training and behavior. Avery Felman is a writer who has contributed to various publications and shares her experiences with her own cat. Both articles provide valuable information on how to create a more positive and comfortable vet visit experience for dogs and cats.\n",
            "\n",
            "2. Top two kinship_article_title along with the kinship_article_url:\n",
            "- Article 1: \"10 Tips to Achieve VetVisit Bliss For Your Dog\" - [Link](https://thewildest.com/dog-health/tips-vet-visit-bliss)\n",
            "- Article 2: \"How to Make Vet Visits Less Scary for Cats\" - [Link](https://thewildest.com/cat-health/vet-visit-less-scary-for-cats)\n"
          ]
        }
      ]
    },
    {
      "cell_type": "code",
      "source": [
        "#Test 2 Kinship LLM version 2 - Dog Vet and doctor - Small covn in the End_chat\n",
        "from gradio_client import Client\n",
        "import pandas as pd\n",
        "df = pd.read_csv('testing_csv - Sheet1.csv')\n",
        "conversation= df.loc[0, 'input']\n",
        "\n",
        "client = Client(api_url)\n",
        "result = client.predict(conversation,\n",
        "\t\t\"End_Chat\",\t# Literal[End_Chat, Mid_Chat, Email, Web_Welcome]  in 'Vet Chat Function:' Radio component\n",
        "\t\tFalse,\t# bool  in 'JSON Output' Checkbox component\n",
        "\t\tapi_name=\"/predict\"\n",
        ")\n",
        "print(result)"
      ],
      "metadata": {
        "colab": {
          "base_uri": "https://localhost:8080/"
        },
        "id": "QyW-kPZ3fKGr",
        "outputId": "901f4905-a875-4c5f-af0f-2c0e42c68e1f"
      },
      "execution_count": null,
      "outputs": [
        {
          "output_type": "stream",
          "name": "stdout",
          "text": [
            "Loaded as API: https://duchaba-kinship-llm-v2.hf.space/--replicas/sq8dq/ ✔\n",
            "1. Summary: The veterinarian chat session involves a discussion between Doctor Anderson and Dog Vet Johnson regarding a 5-year-old German Shepherd named Max. Max has been experiencing occasional seizures, disorientation, and muscle tremors. The preliminary tests and physical examination conducted by Dog Vet Johnson came back normal, but the owner mentioned that Max may have had access to rat poison in the past. Doctor Anderson acknowledges the concerning symptoms and suggests further investigation to determine the underlying cause of the seizures.\n",
            "\n",
            "2. Top two kinship_article_title along with the kinship_article_url:\n",
            "- \"10 Tips to Achieve VetVisit Bliss For Your Dog\" - https://thewildest.com/dog-health/tips-vet-visit-bliss\n",
            "- \"Your Veterinarian's Top 8 Pet Peeves\" - https://thewildest.com/pet-health/veterinarians-pet-peeves\n"
          ]
        }
      ]
    },
    {
      "cell_type": "code",
      "source": [
        "#Test 3 Kinship LLM version 2 - Dog Vet and doctor - Large covn in the End_chat\n",
        "from gradio_client import Client\n",
        "import pandas as pd\n",
        "df = pd.read_csv('testing_csv - Sheet1.csv')\n",
        "conversation= df.loc[1, 'input']\n",
        "\n",
        "client = Client(api_url)\n",
        "result = client.predict(conversation,\n",
        "\t\t\"End_Chat\",\t# Literal[End_Chat, Mid_Chat, Email, Web_Welcome]  in 'Vet Chat Function:' Radio component\n",
        "\t\tFalse,\t# bool  in 'JSON Output' Checkbox component\n",
        "\t\tapi_name=\"/predict\"\n",
        ")\n",
        "print(result)"
      ],
      "metadata": {
        "colab": {
          "base_uri": "https://localhost:8080/"
        },
        "id": "rxH8HBdegtp0",
        "outputId": "310d2d30-2bbb-4d6a-db09-3199b78094d3"
      },
      "execution_count": null,
      "outputs": [
        {
          "output_type": "stream",
          "name": "stdout",
          "text": [
            "Loaded as API: https://duchaba-kinship-llm-v2.hf.space/--replicas/sq8dq/ ✔\n",
            "Summary: In a recent chat session, Dog Vet Johnson discussed a case with Doctor Anderson. The case involved a 5-year-old German Shepherd named Max who was experiencing seizures, disorientation, and muscle tremors. Preliminary tests and examinations were conducted, but they came back normal. However, the owner mentioned that Max may have had access to rat poison in the past. Doctor Anderson suggested running additional tests, such as coagulation profiles, to check for clotting issues associated with rat poison ingestion. They emphasized the importance of investigating all potential causes and discussed the appropriate treatment if rat poison exposure is confirmed. Dog Vet Johnson expressed gratitude for the guidance and promised to keep Doctor Anderson updated on Max's condition.\n",
            "\n",
            "Top two kinship_article_title and kinship_article_url:\n",
            "1. \"Your Veterinarian's Top 8 Pet Peeves\" - https://thewildest.com/pet-health/veterinarians-pet-peeves\n",
            "2. \"Please Be Nice To Your Vet | Understanding Vet Compassion Fatigue & Forging a Great Relationship with Your Vet\" - https://thewildest.com/pet-health/veterinarian-compassion-fatigue\n"
          ]
        }
      ]
    },
    {
      "cell_type": "code",
      "source": [
        "#Test 4 Kinship LLM version 2 - Dog Vet and doctor - small conv in the Mid_chat\n",
        "from gradio_client import Client\n",
        "import pandas as pd\n",
        "df = pd.read_csv('testing_csv - Sheet1.csv')\n",
        "conversation= df.loc[0, 'input']\n",
        "\n",
        "client = Client(api_url)\n",
        "result = client.predict(conversation,\n",
        "\t\t\"Mid_Chat\",\t# Literal[End_Chat, Mid_Chat, Email, Web_Welcome]  in 'Vet Chat Function:' Radio component\n",
        "\t\tFalse,\t# bool  in 'JSON Output' Checkbox component\n",
        "\t\tapi_name=\"/predict\"\n",
        ")\n",
        "print(result)"
      ],
      "metadata": {
        "colab": {
          "base_uri": "https://localhost:8080/"
        },
        "id": "q46KiT282Zpq",
        "outputId": "4dd681d8-a2f7-4ecc-cb79-b5ff1aef580a"
      },
      "execution_count": null,
      "outputs": [
        {
          "output_type": "stream",
          "name": "stdout",
          "text": [
            "Loaded as API: https://duchaba-kinship-llm-v2.hf.space/--replicas/htppr/ ✔\n",
            "1. \\\"Your Veterinarian\\'s Top 8 Pet Peeves\\\" - https://thewildest.com/pet-health/veterinarians-pet-peeves\n",
            "2. \\\"10 Tips to Achieve VetVisit Bliss For Your Dog\\\" - https://thewildest.com/dog-health/tips-vet-visit-bliss\n"
          ]
        }
      ]
    },
    {
      "cell_type": "code",
      "source": [
        "#Test 5 Kinship LLM version 2 - Dog Vet and doctor - Normal and Large covn in the Mid_chat\n",
        "from gradio_client import Client\n",
        "import pandas as pd\n",
        "df = pd.read_csv('testing_csv - Sheet1.csv')\n",
        "conversation= df.loc[1, 'input']\n",
        "\n",
        "client = Client(api_url)\n",
        "result = client.predict(conversation,\n",
        "\t\t\"Mid_Chat\",\t# Literal[End_Chat, Mid_Chat, Email, Web_Welcome]  in 'Vet Chat Function:' Radio component\n",
        "\t\tFalse,\t# bool  in 'JSON Output' Checkbox component\n",
        "\t\tapi_name=\"/predict\"\n",
        ")\n",
        "print(result)"
      ],
      "metadata": {
        "colab": {
          "base_uri": "https://localhost:8080/"
        },
        "id": "RD3veq73tqFy",
        "outputId": "8b2a7b97-36d4-4664-dfef-7af81c92aa14"
      },
      "execution_count": null,
      "outputs": [
        {
          "output_type": "stream",
          "name": "stdout",
          "text": [
            "Loaded as API: https://duchaba-kinship-llm-v2.hf.space/--replicas/htppr/ ✔\n",
            "1. \\\"Please Be Nice To Your Vet | Understanding Vet Compassion Fatigue & Forging a Great Relationship with Your Vet\\\" - https://thewildest.com/pet-health/veterinarian-compassion-fatigue\n",
            "2. \\\"Your Veterinarian\\'s Top 8 Pet Peeves\\\" - https://thewildest.com/pet-health/veterinarians-pet-peeves\n"
          ]
        }
      ]
    },
    {
      "cell_type": "code",
      "source": [
        "#Test 6 Kinship LLM version 2 - Dog Vet and doctor - Normal covn in the Email\n",
        "from gradio_client import Client\n",
        "import pandas as pd\n",
        "df = pd.read_csv('testing_csv - Sheet1.csv')\n",
        "conversation= df.loc[0, 'input']\n",
        "\n",
        "client = Client(api_url)\n",
        "result = client.predict(conversation,\n",
        "\t\t\"Email\",\t# Literal[End_Chat, Mid_Chat, Email, Web_Welcome]  in 'Vet Chat Function:' Radio component\n",
        "\t\tFalse,\t# bool  in 'JSON Output' Checkbox component\n",
        "\t\tapi_name=\"/predict\"\n",
        ")\n",
        "print(result)"
      ],
      "metadata": {
        "colab": {
          "base_uri": "https://localhost:8080/"
        },
        "id": "F7yyUPo6Bm7-",
        "outputId": "a2bfd17e-f232-4877-e9bc-712dfd0e7fa6"
      },
      "execution_count": null,
      "outputs": [
        {
          "output_type": "stream",
          "name": "stdout",
          "text": [
            "Loaded as API: https://duchaba-kinship-llm-v2.hf.space/--replicas/htppr/ ✔\n",
            "1. Email to the user in veterinarian friendly natural conversational style:\n",
            "\n",
            "Subject: Re: Concerning Symptoms of Max, the German Shepherd\n",
            "\n",
            "Dear Dog Vet,\n",
            "\n",
            "Thank you for reaching out to me regarding Max\\'s concerning symptoms. I understand how worrying it can be when our furry friends experience seizures, disorientation, and muscle tremors. Rest assured, I\\'m here to assist you in finding the best course of action for Max\\'s health.\n",
            "\n",
            "Based on the information you provided, it\\'s important to consider various underlying medical conditions that could be causing Max\\'s seizures. I\\'m glad to hear that you have already conducted a physical examination and ran blood tests, which came back normal. This helps us rule out certain possibilities.\n",
            "\n",
            "However, the owner mentioning that Max may have had access to rat poison in the past is a crucial piece of information. Rat poison can be toxic to dogs and may lead to neurological symptoms like seizures. In such cases, it\\'s essential to take immediate action to address the potential poisoning.\n",
            "\n",
            "I would recommend conducting further tests to specifically check for any signs of rat poison in Max\\'s system. This could include specific blood tests or even a urine analysis. Additionally, it would be helpful to gather more details about the possible exposure to rat poison, such as when it occurred and the quantity involved.\n",
            "\n",
            "Please let me know if you need any guidance on how to proceed with these additional tests or if you have any other questions or concerns. Remember, I\\'m here to support you and Max every step of the way.\n",
            "\n",
            "Best regards,\n",
            "\n",
            "Doctor Anderson\n",
            "\n",
            "2. The two top kinship_article_title along with the kinship_article_url for the following veterinarian chat session with a user:\n",
            "\n",
            "1. \\\"Your Veterinarian\\'s Top 8 Pet Peeves\\\"\n",
            "   kinship_article_url: https://thewildest.com/pet-health/veterinarians-pet-peeves\n",
            "\n",
            "2. \\\"Please Be Nice To Your Vet | Understanding Vet Compassion Fatigue & Forging a Great Relationship with Your Vet\\\"\n",
            "   kinship_article_url: https://thewildest.com/pet-health/veterinarian-compassion-fatigue\n"
          ]
        }
      ]
    },
    {
      "cell_type": "code",
      "source": [
        "#Test 7 Kinship LLM version 2 - Dog Vet and doctor - Normal and Large covn in the Email\n",
        "from gradio_client import Client\n",
        "import pandas as pd\n",
        "df = pd.read_csv('testing_csv - Sheet1.csv')\n",
        "conversation= df.loc[1, 'input']\n",
        "\n",
        "client = Client(api_url)\n",
        "result = client.predict(conversation,\n",
        "\t\t\"Email\",\t# Literal[End_Chat, Mid_Chat, Email, Web_Welcome]  in 'Vet Chat Function:' Radio component\n",
        "\t\tFalse,\t# bool  in 'JSON Output' Checkbox component\n",
        "\t\tapi_name=\"/predict\"\n",
        ")\n",
        "print(result)"
      ],
      "metadata": {
        "colab": {
          "base_uri": "https://localhost:8080/"
        },
        "id": "oqu4Y793A_0b",
        "outputId": "9920af36-c03b-436d-f7ba-855914b614f7"
      },
      "execution_count": null,
      "outputs": [
        {
          "output_type": "stream",
          "name": "stdout",
          "text": [
            "Loaded as API: https://duchaba-kinship-llm-v2.hf.space/--replicas/sq8dq/ ✔\n",
            "Email to the user:\n",
            "\n",
            "Subject: Update on Max's Condition\n",
            "\n",
            "Dear Dog Vet Johnson,\n",
            "\n",
            "I hope this email finds you well. I wanted to provide you with an update on Max's condition and discuss the next steps in his treatment plan.\n",
            "\n",
            "After our conversation, I reviewed Max's symptoms and the possibility of rat poison exposure. While the initial blood tests came back normal, it is still important to rule out all potential causes. Therefore, I recommend running additional tests, specifically coagulation profiles, to check for any clotting issues associated with rat poison ingestion. This will help us confirm or rule out rat poison as the underlying cause of Max's symptoms.\n",
            "\n",
            "I understand that Max's owner is understandably concerned about his well-being, and I want to assure you that we are doing everything we can to provide the best care for him. If rat poison exposure is confirmed, we will discuss the appropriate treatment options, including antidotes or supportive care.\n",
            "\n",
            "Please let me know when you have arranged for the additional tests, and keep me updated on Max's condition. If you have any further questions or require any assistance, please don't hesitate to reach out. Collaboration between veterinary and medical professionals is crucial for comprehensive care, and I am here to support you in any way I can.\n",
            "\n",
            "Thank you for your dedication to Max's well-being, and I look forward to hearing from you soon.\n",
            "\n",
            "Best regards,\n",
            "\n",
            "Doctor Anderson\n",
            "\n",
            "Top kinship_article_title along with the kinship_article_url for the veterinarian chat session:\n",
            "\n",
            "1. \"Your Veterinarian's Top 8 Pet Peeves\"\n",
            "   kinship_article_url: https://thewildest.com/pet-health/veterinarians-pet-peeves\n",
            "\n",
            "2. \"Please Be Nice To Your Vet | Understanding Vet Compassion Fatigue & Forging a Great Relationship with Your Vet\"\n",
            "   kinship_article_url: https://thewildest.com/pet-health/veterinarian-compassion-fatigue\n"
          ]
        }
      ]
    },
    {
      "cell_type": "code",
      "source": [
        "#Test 8 Kinship LLM version 2 - Dog Vet and doctor - Normal covn in the Web_Welcome\n",
        "from gradio_client import Client\n",
        "import pandas as pd\n",
        "df = pd.read_csv('testing_csv - Sheet1.csv')\n",
        "conversation= df.loc[0, 'input']\n",
        "\n",
        "client = Client(api_url)\n",
        "result = client.predict(conversation,\n",
        "\t\t\"Web_Welcome\",\t# Literal[End_Chat, Mid_Chat, Email, Web_Welcome]  in 'Vet Chat Function:' Radio component\n",
        "\t\tFalse,\t# bool  in 'JSON Output' Checkbox component\n",
        "\t\tapi_name=\"/predict\"\n",
        ")\n",
        "print(result)"
      ],
      "metadata": {
        "colab": {
          "base_uri": "https://localhost:8080/"
        },
        "id": "zQs5SZdeBl7s",
        "outputId": "37f35fe4-3cc6-4f16-ca1e-d54ee4a10c6c"
      },
      "execution_count": null,
      "outputs": [
        {
          "output_type": "stream",
          "name": "stdout",
          "text": [
            "Loaded as API: https://duchaba-kinship-llm-v2.hf.space/--replicas/htppr/ ✔\n",
            "1. Welcome to the veterinarian chat, Dog Vet Johnson! I\\'m Doctor Anderson, and I\\'m here to assist you with any concerns or questions you have about your furry patients. Feel free to share the details of the case, and together we\\'ll work towards finding the best solution for Max.\n",
            "\n",
            "2. The two top kinship_article_title along with the kinship_article_url for the given user and pet profile are:\n",
            "- \\\"Your Veterinarian\\'s Top 8 Pet Peeves\\\" - [https://thewildest.com/pet-health/veterinarians-pet-peeves]\n",
            "- \\\"Please Be Nice To Your Vet | Understanding Vet Compassion Fatigue & Forging a Great Relationship with Your Vet\\\" - [https://thewildest.com/pet-health/veterinarian-compassion-fatigue]\n"
          ]
        }
      ]
    },
    {
      "cell_type": "code",
      "source": [
        "#Test 9 Kinship LLM version 2 - Dog Vet and doctor - Normal and Large covn in the Web_Welcome\n",
        "from gradio_client import Client\n",
        "import pandas as pd\n",
        "df = pd.read_csv('testing_csv - Sheet1.csv')\n",
        "conversation= df.loc[1, 'input']\n",
        "\n",
        "client = Client(api_url)\n",
        "result = client.predict(conversation,\n",
        "\t\t\"Web_Welcome\",\t# Literal[End_Chat, Mid_Chat, Email, Web_Welcome]  in 'Vet Chat Function:' Radio component\n",
        "\t\tFalse,\t# bool  in 'JSON Output' Checkbox component\n",
        "\t\tapi_name=\"/predict\"\n",
        ")\n",
        "print(result)"
      ],
      "metadata": {
        "colab": {
          "base_uri": "https://localhost:8080/"
        },
        "id": "_NH2ssaF3do8",
        "outputId": "191a9b40-b688-41c6-d000-14d4e18306bd"
      },
      "execution_count": null,
      "outputs": [
        {
          "output_type": "stream",
          "name": "stdout",
          "text": [
            "Loaded as API: https://duchaba-kinship-llm-v2.hf.space/--replicas/htppr/ ✔\n",
            "1. Welcome to the veterinarian chat, Dog Vet Johnson! I\\'m here to assist you with any questions or concerns you have about your furry patients. Feel free to share the details of the case, and together we\\'ll work towards providing the best care for your patients.\n",
            "\n",
            "2. The two top kinship_article_title along with the kinship_article_url are:\n",
            "- \\\"Your Veterinarian\\'s Top 8 Pet Peeves\\\" - [https://thewildest.com/pet-health/veterinarians-pet-peeves]\n",
            "- \\\"Please Be Nice To Your Vet | Understanding Vet Compassion Fatigue & Forging a Great Relationship with Your Vet\\\" - [https://thewildest.com/pet-health/veterinarian-compassion-fatigue]\n"
          ]
        }
      ]
    },
    {
      "cell_type": "code",
      "source": [
        "#Test 10 Kinship LLM version 2 - Cat Vet and doctor - Normal covn in the Mid_Chat\n",
        "from gradio_client import Client\n",
        "import pandas as pd\n",
        "df = pd.read_csv('testing_csv - Sheet1.csv')\n",
        "conversation= df.loc[2, 'input']\n",
        "\n",
        "client = Client(api_url)\n",
        "result = client.predict(conversation,\n",
        "\t\t\"Mid_Chat\",\t# Literal[End_Chat, Mid_Chat, Email, Web_Welcome]  in 'Vet Chat Function:' Radio component\n",
        "\t\tFalse,\t# bool  in 'JSON Output' Checkbox component\n",
        "\t\tapi_name=\"/predict\"\n",
        ")\n",
        "print(result)"
      ],
      "metadata": {
        "id": "Ne3fu2OTbqRp",
        "colab": {
          "base_uri": "https://localhost:8080/"
        },
        "outputId": "b5a5e824-8c0f-4b35-921b-6b3b11314243"
      },
      "execution_count": 8,
      "outputs": [
        {
          "output_type": "stream",
          "name": "stdout",
          "text": [
            "Loaded as API: https://duchaba-kinship-llm-v2.hf.space/--replicas/htppr/ ✔\n",
            "1. kinship_article_title: \\\"Does My Cat Really Need to See a Vet?\\\"\n",
            "   kinship_article_url: \\\"https://thewildest.com/cat-health/does-my-cat-really-need-to-see-a-vet\\\"\n",
            "\n",
            "2. kinship_article_title: \\\"How to Make Vet Visits Less Scary for Cats\\\"\n",
            "   kinship_article_url: \\\"https://thewildest.com/cat-health/vet-visit-less-scary-for-cats\\\"\n"
          ]
        }
      ]
    },
    {
      "cell_type": "code",
      "source": [
        "#Test 11 Kinship LLM version 2 - Cat Vet and doctor - Normal and Large covn in the Mid_Chat\n",
        "from gradio_client import Client\n",
        "import pandas as pd\n",
        "df = pd.read_csv('testing_csv - Sheet1.csv')\n",
        "conversation= df.loc[3, 'input']\n",
        "\n",
        "client = Client(api_url)\n",
        "result = client.predict(conversation,\n",
        "\t\t\"Mid_Chat\",\t# Literal[End_Chat, Mid_Chat, Email, Web_Welcome]  in 'Vet Chat Function:' Radio component\n",
        "\t\tFalse,\t# bool  in 'JSON Output' Checkbox component\n",
        "\t\tapi_name=\"/predict\"\n",
        ")\n",
        "print(result)"
      ],
      "metadata": {
        "colab": {
          "base_uri": "https://localhost:8080/"
        },
        "id": "erY4W0bVdx9j",
        "outputId": "d3d64ea7-fcf2-4a7b-d975-50605a44ab7e"
      },
      "execution_count": 6,
      "outputs": [
        {
          "output_type": "stream",
          "name": "stdout",
          "text": [
            "Loaded as API: https://duchaba-kinship-llm-v2.hf.space/--replicas/htppr/ ✔\n",
            "The top two kinship_article_title along with the kinship_article_url for the veterinarian chat session are:\n",
            "\n",
            "1. \\\"Does My Cat Really Need to See a Vet?\\\" - https://thewildest.com/cat-health/does-my-cat-really-need-to-see-a-vet\n",
            "2. \\\"How to Make Vet Visits Less Scary for Cats\\\" - https://thewildest.com/cat-health/vet-visit-less-scary-for-cats\n"
          ]
        }
      ]
    },
    {
      "cell_type": "code",
      "source": [
        "#Test 12 Kinship LLM version 2 - Invalid conv in the Web_Welcom\n",
        "from gradio_client import Client\n",
        "\n",
        "client = Client(api_url)\n",
        "result = client.predict(\n",
        "\t\t\"Dad: Well, it seems like she gets especially fussy after feeding, and sometimes she has trouble falling asleep. Doctor: Thank you for sharing that. It's not uncommon for newborns to experience some fussiness. Let's explore a few things. How is Emma's feeding going? Any changes in her feeding patterns or issues with latching?\",\n",
        "\t\t\"Web_Welcome\",\t# Literal[End_Chat, Mid_Chat, Email, Web_Welcome]  in 'Vet Chat Function:' Radio component\n",
        "\t\tFalse,\t# bool  in 'JSON Output' Checkbox component\n",
        "\t\tapi_name=\"/predict\"\n",
        ")\n",
        "print(result)"
      ],
      "metadata": {
        "colab": {
          "base_uri": "https://localhost:8080/"
        },
        "id": "yMqMNRG9xo0f",
        "outputId": "84c8b5ca-d861-42fe-aca7-1f6a358a3c62"
      },
      "execution_count": 11,
      "outputs": [
        {
          "output_type": "stream",
          "name": "stdout",
          "text": [
            "Loaded as API: https://duchaba-kinship-llm-v2.hf.space/--replicas/htppr/ ✔\n",
            "1. Hey there! Welcome to our veterinarian chat. We\\'re here to help you and your furry friend with any questions or concerns you may have. Feel free to ask us anything about your pet\\'s health or behavior. We\\'re here to provide you with the best advice and support. Let\\'s get started!\n",
            "\n",
            "2. The two top kinship_article_title along with the kinship_article_url for the given user and pet profile are:\n",
            "- \\\"Please Be Nice To Your Vet | Understanding Vet Compassion Fatigue & Forging a Great Relationship with Your Vet\\\" - [https://thewildest.com/pet-health/veterinarian-compassion-fatigue]\n",
            "- \\\"Your Veterinarian\\'s Top 8 Pet Peeves\\\" - [https://thewildest.com/pet-health/veterinarians-pet-peeves]\n"
          ]
        }
      ]
    }
  ]
}